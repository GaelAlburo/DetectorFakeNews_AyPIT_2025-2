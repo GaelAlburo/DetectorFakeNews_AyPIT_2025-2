{
 "cells": [
  {
   "cell_type": "markdown",
   "id": "9d455c50",
   "metadata": {},
   "source": [
    "## Preprocesamiento de datos\n"
   ]
  },
  {
   "cell_type": "code",
   "execution_count": 118,
   "id": "bfe0d0ac",
   "metadata": {},
   "outputs": [
    {
     "name": "stdout",
     "output_type": "stream",
     "text": [
      "(676, 7)\n"
     ]
    },
    {
     "data": {
      "text/html": [
       "<div>\n",
       "<style scoped>\n",
       "    .dataframe tbody tr th:only-of-type {\n",
       "        vertical-align: middle;\n",
       "    }\n",
       "\n",
       "    .dataframe tbody tr th {\n",
       "        vertical-align: top;\n",
       "    }\n",
       "\n",
       "    .dataframe thead th {\n",
       "        text-align: right;\n",
       "    }\n",
       "</style>\n",
       "<table border=\"1\" class=\"dataframe\">\n",
       "  <thead>\n",
       "    <tr style=\"text-align: right;\">\n",
       "      <th></th>\n",
       "      <th>Id</th>\n",
       "      <th>Category</th>\n",
       "      <th>Topic</th>\n",
       "      <th>Source</th>\n",
       "      <th>Headline</th>\n",
       "      <th>Text</th>\n",
       "      <th>Link</th>\n",
       "      <th>label</th>\n",
       "    </tr>\n",
       "  </thead>\n",
       "  <tbody>\n",
       "    <tr>\n",
       "      <th>0</th>\n",
       "      <td>1</td>\n",
       "      <td>Fake</td>\n",
       "      <td>Education</td>\n",
       "      <td>El Ruinaversal</td>\n",
       "      <td>RAE INCLUIRÁ LA PALABRA \"LADY\" EN EL DICCIONAR...</td>\n",
       "      <td>RAE INCLUIRÁ LA PALABRA \"LADY\" EN EL DICCIONAR...</td>\n",
       "      <td>http://www.elruinaversal.com/2017/06/10/rae-in...</td>\n",
       "      <td>0</td>\n",
       "    </tr>\n",
       "    <tr>\n",
       "      <th>1</th>\n",
       "      <td>2</td>\n",
       "      <td>Fake</td>\n",
       "      <td>Education</td>\n",
       "      <td>Hay noticia</td>\n",
       "      <td>La palabra \"haiga\", aceptada por la RAE</td>\n",
       "      <td>La palabra \"haiga\", aceptada por la RAE La Rea...</td>\n",
       "      <td>https://haynoticia.es/la-palabra-haiga-aceptad...</td>\n",
       "      <td>0</td>\n",
       "    </tr>\n",
       "    <tr>\n",
       "      <th>2</th>\n",
       "      <td>3</td>\n",
       "      <td>Fake</td>\n",
       "      <td>Education</td>\n",
       "      <td>El Ruinaversal</td>\n",
       "      <td>YORDI ROSADO ESCRIBIRÁ Y DISEÑARÁ LOS NUEVOS L...</td>\n",
       "      <td>YORDI ROSADO ESCRIBIRÁ Y DISEÑARÁ LOS NUEVOS L...</td>\n",
       "      <td>http://www.elruinaversal.com/2018/05/06/yordi-...</td>\n",
       "      <td>0</td>\n",
       "    </tr>\n",
       "    <tr>\n",
       "      <th>3</th>\n",
       "      <td>4</td>\n",
       "      <td>True</td>\n",
       "      <td>Education</td>\n",
       "      <td>EL UNIVERSAL</td>\n",
       "      <td>UNAM capacitará a maestros para aprobar prueba...</td>\n",
       "      <td>UNAM capacitará a maestros para aprobar prueba...</td>\n",
       "      <td>http://www.eluniversal.com.mx/articulo/nacion/...</td>\n",
       "      <td>1</td>\n",
       "    </tr>\n",
       "    <tr>\n",
       "      <th>4</th>\n",
       "      <td>5</td>\n",
       "      <td>Fake</td>\n",
       "      <td>Education</td>\n",
       "      <td>Lamula</td>\n",
       "      <td>pretenden aprobar libros escolares con conteni...</td>\n",
       "      <td>Alerta: pretenden aprobar libros escolares con...</td>\n",
       "      <td>https://redaccion.lamula.pe/2018/06/19/memoria...</td>\n",
       "      <td>0</td>\n",
       "    </tr>\n",
       "  </tbody>\n",
       "</table>\n",
       "</div>"
      ],
      "text/plain": [
       "   Id Category      Topic          Source  \\\n",
       "0   1     Fake  Education  El Ruinaversal   \n",
       "1   2     Fake  Education     Hay noticia   \n",
       "2   3     Fake  Education  El Ruinaversal   \n",
       "3   4     True  Education    EL UNIVERSAL   \n",
       "4   5     Fake  Education          Lamula   \n",
       "\n",
       "                                            Headline  \\\n",
       "0  RAE INCLUIRÁ LA PALABRA \"LADY\" EN EL DICCIONAR...   \n",
       "1            La palabra \"haiga\", aceptada por la RAE   \n",
       "2  YORDI ROSADO ESCRIBIRÁ Y DISEÑARÁ LOS NUEVOS L...   \n",
       "3  UNAM capacitará a maestros para aprobar prueba...   \n",
       "4  pretenden aprobar libros escolares con conteni...   \n",
       "\n",
       "                                                Text  \\\n",
       "0  RAE INCLUIRÁ LA PALABRA \"LADY\" EN EL DICCIONAR...   \n",
       "1  La palabra \"haiga\", aceptada por la RAE La Rea...   \n",
       "2  YORDI ROSADO ESCRIBIRÁ Y DISEÑARÁ LOS NUEVOS L...   \n",
       "3  UNAM capacitará a maestros para aprobar prueba...   \n",
       "4  Alerta: pretenden aprobar libros escolares con...   \n",
       "\n",
       "                                                Link  label  \n",
       "0  http://www.elruinaversal.com/2017/06/10/rae-in...      0  \n",
       "1  https://haynoticia.es/la-palabra-haiga-aceptad...      0  \n",
       "2  http://www.elruinaversal.com/2018/05/06/yordi-...      0  \n",
       "3  http://www.eluniversal.com.mx/articulo/nacion/...      1  \n",
       "4  https://redaccion.lamula.pe/2018/06/19/memoria...      0  "
      ]
     },
     "execution_count": 118,
     "metadata": {},
     "output_type": "execute_result"
    }
   ],
   "source": [
    "import pandas as pd\n",
    "\n",
    "# Carga el Dataset\n",
    "train_data = pd.read_excel(\"data/train.xlsx\")\n",
    "\n",
    "# Imprime el DataFrame\n",
    "print(train_data.shape)\n",
    "train_data.head()\n",
    "\n",
    "# Agrega una nueva columna 'label' modificando los strings de la columna 'Category' a valores numéricos.\n",
    "train_data['label'] = train_data['Category'].map({'Fake': 0, 'True': 1})\n",
    "\n",
    "# Imprime el DataFrame\n",
    "train_data.head()"
   ]
  },
  {
   "cell_type": "markdown",
   "id": "4e5d6a4a",
   "metadata": {},
   "source": [
    "Verificamos que nuestro dataset sea balanceado, es decir, que la cantidad de ejemplos de cada clase sea similar."
   ]
  },
  {
   "cell_type": "code",
   "execution_count": 104,
   "id": "0de28415",
   "metadata": {},
   "outputs": [
    {
     "data": {
      "text/plain": [
       "([<matplotlib.patches.Wedge at 0x1abd66d9f40>,\n",
       "  <matplotlib.patches.Wedge at 0x1abd66d8a40>],\n",
       " [Text(-1.2000000000000002, 1.469576158976824e-16, 'Fake'),\n",
       "  Text(1.2000000000000002, -2.939152317953648e-16, 'True')],\n",
       " [Text(-0.7, 8.572527594031472e-17, '50.0%'),\n",
       "  Text(0.7, -1.7145055188062944e-16, '50.0%')])"
      ]
     },
     "execution_count": 104,
     "metadata": {},
     "output_type": "execute_result"
    },
    {
     "data": {
      "image/png": "[encoded data removed]",
      "text/plain": [
       "<Figure size 640x480 with 1 Axes>"
      ]
     },
     "metadata": {},
     "output_type": "display_data"
    }
   ],
   "source": [
    "import matplotlib.pyplot as plt\n",
    "\n",
    "label_size = [train_data['label'].sum(), len(train_data['label'])-train_data['label'].sum()]\n",
    "plt.pie(label_size, explode=[0.1, 0.1], colors=['#ff9999','#66b3ff'], startangle=90, labels=['Fake', 'True'], autopct='%1.1f%%', shadow=True)"
   ]
  },
  {
   "cell_type": "markdown",
   "id": "7e789efe",
   "metadata": {},
   "source": [
    "### Separación de datos en entrenamiento y test"
   ]
  },
  {
   "cell_type": "code",
   "execution_count": 119,
   "id": "da9e8cf3",
   "metadata": {},
   "outputs": [
    {
     "name": "stdout",
     "output_type": "stream",
     "text": [
      "Original: 676\n",
      "Entrenamiento: 574\n",
      "Validación: 51\n",
      "Prueba: 51\n"
     ]
    }
   ],
   "source": [
    "# Se dividirá en un 70% para entrenamiento, 15% para validación y 15% para prueba.\n",
    "from sklearn.model_selection import train_test_split\n",
    "\n",
    "train_text, temp_text, train_labels, temp_labels = train_test_split(\n",
    "    train_data['Text'], train_data['label'], test_size=0.15, random_state=42, stratify=train_data['label']\n",
    ")\n",
    "\n",
    "val_text, test_text, val_labels, test_labels = train_test_split(\n",
    "    temp_text, temp_labels, random_state=42, test_size=0.5, stratify=temp_labels\n",
    ")\n",
    "\n",
    "# Imprime el tamaño de cada conjunto y el original\n",
    "print(f\"Original: {len(train_data)}\")\n",
    "print(f\"Entrenamiento: {len(train_text)}\")\n",
    "print(f\"Validación: {len(val_text)}\")\n",
    "print(f\"Prueba: {len(test_text)}\")"
   ]
  },
  {
   "cell_type": "markdown",
   "id": "3ea5d54a",
   "metadata": {},
   "source": [
    "# Entrenando el modelo BERT\n",
    "El primer paso a realizar es cargar el modelo preentrenado de BERT, a través de la librería `transformers` de Hugging Face."
   ]
  },
  {
   "cell_type": "code",
   "execution_count": 121,
   "id": "9b5a05df",
   "metadata": {},
   "outputs": [
    {
     "name": "stdout",
     "output_type": "stream",
     "text": [
      "Dispositivo: cpu\n"
     ]
    }
   ],
   "source": [
    "from transformers import AutoModel, BertTokenizerFast\n",
    "import torch\n",
    "\n",
    "# Configura el dispositivo para usar GPU si está disponible\n",
    "device = torch.device(\"cuda\" if torch.cuda.is_available() else \"cpu\")\n",
    "print(f\"Dispositivo: {device}\")\n",
    "\n",
    "# Carga el modelo y el tokenizador de BERT\n",
    "bert = AutoModel.from_pretrained(\"bert-base-uncased\")\n",
    "tokenizer = BertTokenizerFast.from_pretrained(\"bert-base-uncased\")"
   ]
  },
  {
   "cell_type": "markdown",
   "id": "abd20064",
   "metadata": {},
   "source": [
    "Graficaremos la cantidad de palabras que hay en cada uno de los textos de nuestro `test_data`. Esto nos permitirá observar si hay textos que son demasiado largos o cortos, y así poder decidir si es necesario realizar un recorte o padding a los textos."
   ]
  },
  {
   "cell_type": "code",
   "execution_count": 123,
   "id": "ea38a50e",
   "metadata": {},
   "outputs": [
    {
     "data": {
      "text/plain": [
       "Text(0, 0.5, 'Cantidad de textos')"
      ]
     },
     "execution_count": 123,
     "metadata": {},
     "output_type": "execute_result"
    },
    {
     "data": {
      "image/png": "[encoded data removed]",
      "text/plain": [
       "<Figure size 640x480 with 1 Axes>"
      ]
     },
     "metadata": {},
     "output_type": "display_data"
    }
   ],
   "source": [
    "seq_len = [len(text.split()) for text in train_data['Headline']]\n",
    "\n",
    "pd.Series(seq_len).hist(bins = 40, color='firebrick')\n",
    "\n",
    "plt.title('Distribución de la cantidad de palabras por texto')\n",
    "plt.xlabel('Cantidad de palabras')\n",
    "plt.ylabel('Cantidad de textos')"
   ]
  },
  {
   "cell_type": "markdown",
   "id": "6af6509b",
   "metadata": {},
   "source": [
    "La mayoría de los textos tienen menos de 300 palabras. Por lo que podemos definir un tamaño máximo de 300 palabras. Esto nos permitirá reducir el tamaño de los textos, y así reducir el tiempo de entrenamiento del modelo."
   ]
  },
  {
   "cell_type": "code",
   "execution_count": 124,
   "id": "80f6f60c",
   "metadata": {},
   "outputs": [
    {
     "name": "stderr",
     "output_type": "stream",
     "text": [
      "c:\\Users\\PC\\OneDrive\\Escritorio\\Universidad\\Semestre 10\\AyPIT\\DetectorFakeNews_AyPIT_2025-2\\venv2\\Lib\\site-packages\\transformers\\tokenization_utils_base.py:2700: FutureWarning: The `pad_to_max_length` argument is deprecated and will be removed in a future version, use `padding=True` or `padding='longest'` to pad to the longest sequence in the batch, or use `padding='max_length'` to pad to a max length. In this case, you can give a specific length with `max_length` (e.g. `max_length=45`) or leave max_length to None to pad to the maximal input size of the model (e.g. 512 for Bert).\n",
      "  warnings.warn(\n"
     ]
    }
   ],
   "source": [
    "MAX_LENGTH = 15\n",
    "\n",
    "# Tokeniza los textos de entrenamiento\n",
    "tokens_train = tokenizer.batch_encode_plus(\n",
    "    train_text.tolist(),\n",
    "    max_length=MAX_LENGTH,\n",
    "    pad_to_max_length=True,\n",
    "    truncation=True,\n",
    ")\n",
    "\n",
    "# Tokeniza los textos de validación\n",
    "tokens_val = tokenizer.batch_encode_plus(\n",
    "    val_text.tolist(),\n",
    "    max_length=MAX_LENGTH,\n",
    "    pad_to_max_length=True,\n",
    "    truncation=True,\n",
    ")\n",
    "\n",
    "# Tokeniza los textos de prueba\n",
    "tokens_test = tokenizer.batch_encode_plus(\n",
    "    test_text.tolist(),\n",
    "    max_length=MAX_LENGTH,\n",
    "    pad_to_max_length=True,\n",
    "    truncation=True,\n",
    ")"
   ]
  },
  {
   "cell_type": "code",
   "execution_count": 125,
   "id": "9d9fe71d",
   "metadata": {},
   "outputs": [],
   "source": [
    "# Convierte los tokens de entrenamiento tensores de PyTorch\n",
    "train_seq = torch.tensor(tokens_train['input_ids'])\n",
    "train_mask = torch.tensor(tokens_train['attention_mask'])\n",
    "train_y = torch.tensor(train_labels.tolist())\n",
    "\n",
    "# Convierte los tokens de validación tensores de PyTorch\n",
    "val_seq = torch.tensor(tokens_val['input_ids'])\n",
    "val_mask = torch.tensor(tokens_val['attention_mask'])\n",
    "val_y = torch.tensor(val_labels.tolist())\n",
    "\n",
    "# Convierte los tokens de prueba tensores de PyTorch\n",
    "test_seq = torch.tensor(tokens_test['input_ids'])\n",
    "test_mask = torch.tensor(tokens_test['attention_mask'])\n",
    "test_y = torch.tensor(test_labels.tolist())"
   ]
  },
  {
   "cell_type": "code",
   "execution_count": 126,
   "id": "e0449ed1",
   "metadata": {},
   "outputs": [],
   "source": [
    "# Data Loader para el conjunto de entrenamiento\n",
    "from torch.utils.data import TensorDataset, DataLoader, RandomSampler, SequentialSampler\n",
    "\n",
    "batch_size = 32 # El batch es el número de ejemplos que se procesan en una sola iteración del modelo.\n",
    "\n",
    "train_data = TensorDataset(train_seq, train_mask, train_y)\n",
    "train_sampler = RandomSampler(train_data) # Aleatorio para el entrenamiento\n",
    "train_dataloader = DataLoader(train_data, sampler=train_sampler, batch_size=batch_size)\n",
    "\n",
    "# Data Loader para el conjunto de validación\n",
    "val_data = TensorDataset(val_seq, val_mask, val_y)\n",
    "val_sampler = SequentialSampler(val_data) # Secuencial para la validación\n",
    "val_dataloader = DataLoader(val_data, sampler=val_sampler, batch_size=batch_size)"
   ]
  },
  {
   "cell_type": "markdown",
   "id": "e49d8919",
   "metadata": {},
   "source": [
    "En el siguiente paso, congelaremos las capas del modelo BERT, para que no se actualicen durante el entrenamiento. Esto nos permitirá utilizar el modelo preentrenado de BERT como un extractor de características, y así reducir el tiempo de entrenamiento del modelo."
   ]
  },
  {
   "cell_type": "code",
   "execution_count": 127,
   "id": "79a6ccd0",
   "metadata": {},
   "outputs": [],
   "source": [
    "for param in bert.parameters():\n",
    "    param.requires_grad = False # Congela los parámetros del modelo BERT"
   ]
  },
  {
   "cell_type": "markdown",
   "id": "0cd03570",
   "metadata": {},
   "source": [
    "### Definición de la arquitectura del modelo\n"
   ]
  },
  {
   "cell_type": "code",
   "execution_count": 128,
   "id": "35287722",
   "metadata": {},
   "outputs": [],
   "source": [
    "import torch.nn as nn\n",
    "\n",
    "class BERT_Architecture(nn.Module):\n",
    "    def __init__(self, bert):\n",
    "        super(BERT_Architecture, self).__init__()\n",
    "\n",
    "        self.bert = bert\n",
    "        self.dropout = nn.Dropout(0.1) # Dropout para evitar el sobreajuste\n",
    "        self.relu = nn.ReLU() # Función de activación ReLU\n",
    "        self.fc1 = nn.Linear(768, 512) # Capa densa con 768 entradas y 256 salidas\n",
    "        self.fc2 = nn.Linear(512, 2) # Capa densa con 256 entradas y 2 salidas (Fake y True)\n",
    "        self.softmax = nn.LogSoftmax(dim=1) # Función de activación softmax\n",
    "\n",
    "    def forward(self, sent_id, mask):\n",
    "        # Pasa las entradas a través del modelo BERT\n",
    "        cls_hs = self.bert(sent_id, attention_mask=mask)['pooler_output']\n",
    "\n",
    "        x = self.fc1(cls_hs) # Pasa por la primera capa densa\n",
    "        x = self.relu(x)\n",
    "        x = self.dropout(x)\n",
    "        x = self.fc2(x) # Pasa por la segunda capa densa\n",
    "        x = self.softmax(x) # Aplica la función softmax para obtener probabilidades\n",
    "        return x\n",
    "    \n",
    "model = BERT_Architecture(bert) # Inicializa el modelo\n",
    "\n",
    "# Definimos los hiperparámetros (optimizador, pesos de las clases y cantidad de épocas)\n",
    "from torch.optim import AdamW # Optimizador AdamW\n",
    "optimizer = AdamW(model.parameters(),\n",
    "                  lr = 1e-5) # Tasa de aprendizaje\n",
    "\n",
    "# Definición de la función de pérdida\n",
    "cross_entropy = nn.NLLLoss()\n",
    "\n",
    "# Cantidad de épocas de entrenamiento\n",
    "epochs = 2"
   ]
  },
  {
   "cell_type": "markdown",
   "id": "d9704637",
   "metadata": {},
   "source": [
    "### Definición de las funciones de Entrenamiento y Evaluación"
   ]
  },
  {
   "cell_type": "code",
   "execution_count": 129,
   "id": "dfe6e561",
   "metadata": {},
   "outputs": [],
   "source": [
    "def train():\n",
    "    model.train() # Configura el modelo en modo de entrenamiento\n",
    "    total_loss, total_accuracy = 0, 0 # Inicializa la pérdida y la precisión totales\n",
    "\n",
    "    for step, batch in enumerate(train_dataloader): # Itera sobre la cantidad de batches\n",
    "        if step % 50 == 0 and not step == 0: # Avanza cada 50 batches\n",
    "            print('  Batch {:>5,}  of  {:>5,}.'.format(step, len(train_dataloader)))\n",
    "        \n",
    "        batch = [r for r in batch]\n",
    "        sent_id, mask, labels = batch\n",
    "        model.zero_grad() # Limpia los gradientes del modelo\n",
    "        preds = model(sent_id, mask) # Realiza la predicción\n",
    "        loss = cross_entropy(preds, labels)\n",
    "        total_loss += loss.item()\n",
    "        loss.backward() # Calcula los gradientes\n",
    "        nn.utils.clip_grad_norm_(model.parameters(), 1.0)\n",
    "        optimizer.step()\n",
    "        preds = preds.detach().cpu().numpy() # Desacopla los tensores de la GPU\n",
    "\n",
    "    avg_loss = total_loss / len(train_dataloader) # Calcula la pérdida promedio\n",
    "\n",
    "    return avg_loss\n",
    "\n",
    "def evaluate():\n",
    "    print(\"\\nEvaluando...\")\n",
    "    model.eval() # Configura el modelo en modo de evaluación\n",
    "    total_loss, total_accuracy = 0, 0 # Inicializa la pérdida y la precisión totales\n",
    "    \n",
    "    for step, batch in enumerate(val_dataloader):\n",
    "        if step % 50 == 0 and not step == 0:\n",
    "            print('  Batch {:>5,}  of  {:>5,}.'.format(step, len(val_dataloader)))\n",
    "        batch = [t for t in batch]\n",
    "        sent_id, mask, labels = batch\n",
    "        with torch.no_grad():\n",
    "            preds = model(sent_id, mask)\n",
    "            loss = cross_entropy(preds, labels)\n",
    "            total_loss += loss.item()\n",
    "            preds = preds.detach().cpu().numpy()\n",
    "    avg_loss = total_loss / len(val_dataloader) # Calcula la pérdida promedio\n",
    "    return avg_loss"
   ]
  },
  {
   "cell_type": "markdown",
   "id": "a3df1b8b",
   "metadata": {},
   "source": [
    "## Entrenamiento del modelo"
   ]
  },
  {
   "cell_type": "code",
   "execution_count": 130,
   "id": "d12ee5c8",
   "metadata": {},
   "outputs": [
    {
     "name": "stdout",
     "output_type": "stream",
     "text": [
      "\n",
      " Epoch 1 / 2\n",
      "\n",
      "Evaluando...\n",
      "\n",
      "Perdida de entrenamiento: 0.696\n",
      "\n",
      "Perdida de validación: 0.688\n",
      "\n",
      " Epoch 2 / 2\n",
      "\n",
      "Evaluando...\n",
      "\n",
      "Perdida de entrenamiento: 0.696\n",
      "\n",
      "Perdida de validación: 0.688\n"
     ]
    }
   ],
   "source": [
    "# Enrenamiento y evaluación del modelo\n",
    "best_valid_loss = float('inf') # Inicializa la mejor pérdida de validación\n",
    "train_losses, valid_losses = [], [] # Inicializa las listas de pérdidas de entrenamiento y validación\n",
    "\n",
    "for epoch in range(epochs):\n",
    "    print('\\n Epoch {:} / {:}'.format(epoch + 1, epochs))\n",
    "    train_loss = train() # Entrena el modelo\n",
    "    valid_loss = evaluate() # Evalúa el modelo\n",
    "    if valid_loss < best_valid_loss: # Guarda el mejor modelo\n",
    "        best_valid_loss = valid_loss\n",
    "        torch.save(model.state_dict(), 'best_model_weights.pt')\n",
    "    train_losses.append(train_loss) # Guarda la pérdida de entrenamiento\n",
    "    valid_losses.append(valid_loss) # Guarda la pérdida de validación\n",
    "\n",
    "    print(f'\\nPerdida de entrenamiento: {train_loss:.3f}')\n",
    "    print(f'\\nPerdida de validación: {valid_loss:.3f}')"
   ]
  },
  {
   "cell_type": "markdown",
   "id": "73bf3839",
   "metadata": {},
   "source": [
    "## Performance del modelo"
   ]
  },
  {
   "cell_type": "code",
   "execution_count": 131,
   "id": "5f5b7d8c",
   "metadata": {},
   "outputs": [
    {
     "data": {
      "text/plain": [
       "<All keys matched successfully>"
      ]
     },
     "execution_count": 131,
     "metadata": {},
     "output_type": "execute_result"
    }
   ],
   "source": [
    "# Carga el mejor modelo\n",
    "path = 'best_model_weights.pt'\n",
    "model.load_state_dict(torch.load(path))"
   ]
  },
  {
   "cell_type": "code",
   "execution_count": 132,
   "id": "74b53592",
   "metadata": {},
   "outputs": [
    {
     "name": "stdout",
     "output_type": "stream",
     "text": [
      "              precision    recall  f1-score   support\n",
      "\n",
      "           0       0.75      0.46      0.57        26\n",
      "           1       0.60      0.84      0.70        25\n",
      "\n",
      "    accuracy                           0.65        51\n",
      "   macro avg       0.68      0.65      0.64        51\n",
      "weighted avg       0.68      0.65      0.63        51\n",
      "\n"
     ]
    }
   ],
   "source": [
    "import numpy as np\n",
    "from sklearn.metrics import classification_report\n",
    "\n",
    "with torch.no_grad():\n",
    "    preds = model(test_seq, test_mask) # Realiza la predicción\n",
    "    preds = preds.detach().cpu().numpy() # Desacopla los tensores de la GPU\n",
    "\n",
    "preds = np.argmax(preds, axis=1) # Obtiene las etiquetas predichas\n",
    "print(classification_report(test_y, preds))"
   ]
  },
  {
   "cell_type": "code",
   "execution_count": null,
   "id": "d42d0e09",
   "metadata": {},
   "outputs": [
    {
     "name": "stdout",
     "output_type": "stream",
     "text": [
      "La noticia es VERDADERA\n",
      "La noticia es FALSA\n",
      "La noticia es VERDADERA\n",
      "La noticia es VERDADERA\n"
     ]
    }
   ],
   "source": [
    "noticia_fake = [\n",
    "    \"El presidente de la nación ha anunciado que el país se convertirá en el primero en colonizar Marte.\",\n",
    "    \"Un estudio revela que el chocolate es la clave para vivir más de 100 años.\",\n",
    "    \"La NASA ha encontrado vida en la luna de Júpiter.\",\n",
    "    \"Un nuevo medicamento promete curar todas las enfermedades en una semana.\",\n",
    "]\n",
    "\n",
    "# Tokeniza la noticia\n",
    "tokens = tokenizer.batch_encode_plus(\n",
    "    noticia_fake,\n",
    "    max_length=15,\n",
    "    pad_to_max_length=True,\n",
    "    truncation=True,\n",
    ")\n",
    "\n",
    "# Convierte los tokens a tensores de PyTorch\n",
    "tokens_seq = torch.tensor(tokens['input_ids'])\n",
    "tokens_mask = torch.tensor(tokens['attention_mask'])\n",
    "\n",
    "# Realiza la predicción\n",
    "with torch.no_grad():\n",
    "    preds = model(tokens_seq, tokens_mask) # Realiza la predicción\n",
    "    preds = preds.detach().cpu().numpy() # Desacopla los tensores de la GPU\n",
    "\n",
    "preds = np.argmax(preds, axis=1) # Obtiene las etiquetas predichas\n",
    "for i in preds:\n",
    "    if i == 0:\n",
    "        print(\"La noticia es FALSA\")\n",
    "    else:\n",
    "        print(\"La noticia es VERDADERA\")"
   ]
  }
 ],
 "metadata": {
  "kernelspec": {
   "display_name": "venv2",
   "language": "python",
   "name": "python3"
  },
  "language_info": {
   "codemirror_mode": {
    "name": "ipython",
    "version": 3
   },
   "file_extension": ".py",
   "mimetype": "text/x-python",
   "name": "python",
   "nbconvert_exporter": "python",
   "pygments_lexer": "ipython3",
   "version": "3.12.4"
  }
 },
 "nbformat": 4,
 "nbformat_minor": 5
}
