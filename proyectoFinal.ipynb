{
 "cells": [
  {
   "cell_type": "markdown",
   "id": "17736410",
   "metadata": {},
   "source": [
    "# \n",
    "\n",
    "<table style=\"background-color: transparent;\">\n",
    "    <tr style=\"background-color: transparent; text-align:center;\">\n",
    "        <td width=\"100%\" align=\"center\"><font size=\"7\" color=\"#f25625\">Análisis y Procesamiento Inteligente de Textos</font></td>\n",
    "    </tr>\n",
    "    <tr style=\"background-color: transparent; text-align:center;\">\n",
    "        <td width=\"100%\"><font size=\"4\" color=\"grey\">Elias Eduardo Gonzáles Sotelo<br>\n",
    "        Bryan Jesús Gonzáles Villalba<br>\n",
    "        Rodrigo Gael Guzmán Alburo<br>\n",
    "        Luis Eduardo Ríos Nava<br>\n",
    "        Alexis Isaías Rodríguez Ortiz<br>\n",
    "        </font></td>\n",
    "    </tr>\n",
    "    <tr style=\"background-color: transparent; text-align:center;\">\n",
    "        <td width=\"100%\"><font size=\"4\" color=\"grey\">Grupo:01<br>2025-2</font></td>\n",
    "    </tr>\n",
    "    <tr style=\"background-color: transparent; text-align:center;\">\n",
    "        <td width=\"100%\"><font size=\"6\" color=\"#f25625\">Proyecto Final: Clasificador de Noticias Falsas en Español</font></td>\n",
    "    </tr>\n",
    "</table>"
   ]
  },
  {
   "cell_type": "markdown",
   "id": "86b7e2de",
   "metadata": {},
   "source": [
    "## Contenido\n",
    "\n",
    "1. [Importación de Librerias](#1)\n",
    "2. [Carga los *datasets*](#2)\n",
    "3. [Limpieza de Texto](#3)\n",
    "4. [Tokenización y Vectorización](#4)\n",
    "5. [Comparación de Modelos Traficionales](#5)\n",
    "6. [Probando el Modelo Naive Bayes](#6)\n",
    "7. [Implementación con el modelo SaBERT](#7)\n",
    "8. [Probando el modelo SaBERT](#8)\n",
    "9. [Comparación detallada de modelos](#9)\n",
    "   1. [Matrices de confusión](#9.1)\n",
    "   2. [Análisis de métricas](#9.2)\n",
    "10. [Predicción de noticias no supervisadas con ambos modelos](#10)"
   ]
  },
  {
   "cell_type": "markdown",
   "id": "5ee6fc85",
   "metadata": {},
   "source": [
    "## Introducción\n",
    "\n",
    "En este notebook se compararan tres modelos de clasificación tradicionales entre sí, y de estos, se seleccionará el mejor para compararlo con un modelo de *Deep Learning* llamado SaBERT. El objetivo es evaluar cuál de los modelos es más efectivo para clasificar noticias en categorías específicas: \"Noticias Verdaderas\" y \"Noticias Falsas\"."
   ]
  },
  {
   "cell_type": "markdown",
   "id": "72cf5c90",
   "metadata": {},
   "source": [
    "## Descripción de los datasets\n",
    "\n",
    "Para este proyecto se utilizarán tres datasets obtenidos de Kaggle:\n",
    "- `onlyfakes1000.csv`: Contiene 1000 noticias falsas.\n",
    "- `onlytrue1000.csv`: Contiene 1000 noticias verdaderas.\n",
    "- `test.csv`: Contiene 400 noticias sin clasificar, se utilizará para probar los modelos.\n",
    "\n",
    "Los tres datasets se obtuvieron del siguiente enlace: [noticias falsas en español](https://www.kaggle.com/datasets/arseniitretiakov/noticias-falsas-en-espaol?resource=download&select=test.csv)."
   ]
  },
  {
   "cell_type": "markdown",
   "id": "6bb83662",
   "metadata": {},
   "source": [
    "<a id=\"1\"></a>\n",
    "## 1. Importación de Librerias"
   ]
  },
  {
   "cell_type": "code",
   "execution_count": 2,
   "id": "7a65078b",
   "metadata": {},
   "outputs": [],
   "source": [
    "import pandas as pd # Manejo de datos\n",
    "\n",
    "import torch # Para compatibilidad con modelo SaBERT\n",
    "\n",
    "from nltk.corpus import stopwords # Limpieza de datos\n",
    "\n",
    "# Tokenización\n",
    "from sklearn.feature_extraction.text import CountVectorizer\n",
    "\n",
    "from sklearn.model_selection import train_test_split # División de datos\n",
    "\n",
    "# Modelos\n",
    "from sklearn.ensemble import RandomForestClassifier # Random Forest\n",
    "from sklearn.naive_bayes import MultinomialNB # Naive Bayes\n",
    "from sklearn.linear_model import LogisticRegression # Regresión Logística\n",
    "\n",
    "from transformers import BertForSequenceClassification, BertTokenizer # Modelo SaBERT y tokenizador\n",
    "\n",
    "# Evaluación\n",
    "from sklearn.metrics import classification_report, accuracy_score, confusion_matrix\n",
    "\n",
    "# Visualización\n",
    "import matplotlib.pyplot as plt\n",
    "import seaborn as sns\n",
    "\n",
    "from tqdm import tqdm # Barra de progreso"
   ]
  },
  {
   "cell_type": "markdown",
   "id": "1dda6c03",
   "metadata": {},
   "source": [
    "Instalación de las librerías:\n",
    "\n",
    "```bash\n",
    "pip install pandas torch nltk scikit-learn transformers matplotlib seaborn tqdm ipykernel\n",
    "```"
   ]
  },
  {
   "cell_type": "markdown",
   "id": "ad084b14",
   "metadata": {},
   "source": [
    "<a id=\"2\"></a>\n",
    "## 2. Carga los *datasets*"
   ]
  },
  {
   "cell_type": "markdown",
   "id": "62105f4f",
   "metadata": {},
   "source": [
    "Se cargan dos *datasets* distintos, uno solamente con noticias verdaderas y otro con noticias falsas, cada uno con 1000 registros cada uno. Se cargan en dos variables distintas, `true_dataset` y `fake_dataset`, respectivamente. Adicionalmente, en ambos *datasets* se agrega una nueva columna llamada `class`, que contiene el valor 1 para las noticias verdaderas y 0 para las noticias falsas."
   ]
  },
  {
   "cell_type": "code",
   "execution_count": 3,
   "id": "53113565",
   "metadata": {},
   "outputs": [
    {
     "name": "stdout",
     "output_type": "stream",
     "text": [
      "                                                  text  class\n",
      "0     Algunas de las voces extremistas más conocida...      1\n",
      "1     Después de casi dos años y medio de luchas po...      1\n",
      "2     Dos periodistas birmanos de la agencia Reuter...      1\n",
      "3     El Cuerpo Nacional de Policía ha detenido a c...      1\n",
      "4     El desfile de la firma en Roma se convierte e...      1\n",
      "..                                                 ...    ...\n",
      "995   El Consejo de Gobierno ha dado su visto bueno...      1\n",
      "996   Investigadores valencianos han desarrollado u...      1\n",
      "997   Los arrestados actuaban en coches y en establ...      1\n",
      "998   El Rey ha encargado este miércoles a Pedro Sá...      1\n",
      "999   Las pruebas realizadas en el Centro Nacional ...      1\n",
      "\n",
      "[1000 rows x 2 columns]\n"
     ]
    }
   ],
   "source": [
    "true_dataset = pd.read_csv(\"data/onlytrue1000.csv\")\n",
    "true_dataset[\"class\"] = 1\n",
    "print(true_dataset)"
   ]
  },
  {
   "cell_type": "code",
   "execution_count": 4,
   "id": "98f7aca4",
   "metadata": {},
   "outputs": [
    {
     "name": "stdout",
     "output_type": "stream",
     "text": [
      "                                                  text  class\n",
      "0     El suceso ha tenido lugar en Brasil. Un adole...      0\n",
      "1     Estamos en la semana decisiva. Los expertos a...      0\n",
      "2     Estudios científicos hay muchos. Unos nos int...      0\n",
      "3     Ha sucedido en la ciudad de San José de Río P...      0\n",
      "4     La fiesta en Sevilla por el vuelco electoral ...      0\n",
      "..                                                 ...    ...\n",
      "995  Reenviado... Me acaban de llegar a casa por co...      0\n",
      "996  JULIO ANGUITA: \"El que debería estar en la cár...      0\n",
      "997  Otegi reclama la salida de prisión de todos lo...      0\n",
      "998  Otegi reclama la salida de prisión de todos lo...      0\n",
      "999  ¡ALERTA! ¡Estos paquetes de merienda son pelig...      0\n",
      "\n",
      "[1000 rows x 2 columns]\n"
     ]
    }
   ],
   "source": [
    "false_dataset = pd.read_csv(\"data/onlyfakes1000.csv\")\n",
    "false_dataset[\"class\"] = 0\n",
    "print(false_dataset)"
   ]
  },
  {
   "cell_type": "markdown",
   "id": "0b4aa6e6",
   "metadata": {},
   "source": [
    "Se mezclan los dos *datasets* en un solo *dataset* llamado `df`:"
   ]
  },
  {
   "cell_type": "code",
   "execution_count": 5,
   "id": "20462237",
   "metadata": {},
   "outputs": [
    {
     "data": {
      "text/html": [
       "<div>\n",
       "<style scoped>\n",
       "    .dataframe tbody tr th:only-of-type {\n",
       "        vertical-align: middle;\n",
       "    }\n",
       "\n",
       "    .dataframe tbody tr th {\n",
       "        vertical-align: top;\n",
       "    }\n",
       "\n",
       "    .dataframe thead th {\n",
       "        text-align: right;\n",
       "    }\n",
       "</style>\n",
       "<table border=\"1\" class=\"dataframe\">\n",
       "  <thead>\n",
       "    <tr style=\"text-align: right;\">\n",
       "      <th></th>\n",
       "      <th>text</th>\n",
       "      <th>class</th>\n",
       "    </tr>\n",
       "  </thead>\n",
       "  <tbody>\n",
       "    <tr>\n",
       "      <th>0</th>\n",
       "      <td>Algunas de las voces extremistas más conocida...</td>\n",
       "      <td>1</td>\n",
       "    </tr>\n",
       "    <tr>\n",
       "      <th>1</th>\n",
       "      <td>Después de casi dos años y medio de luchas po...</td>\n",
       "      <td>1</td>\n",
       "    </tr>\n",
       "    <tr>\n",
       "      <th>2</th>\n",
       "      <td>Dos periodistas birmanos de la agencia Reuter...</td>\n",
       "      <td>1</td>\n",
       "    </tr>\n",
       "    <tr>\n",
       "      <th>3</th>\n",
       "      <td>El Cuerpo Nacional de Policía ha detenido a c...</td>\n",
       "      <td>1</td>\n",
       "    </tr>\n",
       "    <tr>\n",
       "      <th>4</th>\n",
       "      <td>El desfile de la firma en Roma se convierte e...</td>\n",
       "      <td>1</td>\n",
       "    </tr>\n",
       "    <tr>\n",
       "      <th>...</th>\n",
       "      <td>...</td>\n",
       "      <td>...</td>\n",
       "    </tr>\n",
       "    <tr>\n",
       "      <th>1995</th>\n",
       "      <td>Reenviado... Me acaban de llegar a casa por co...</td>\n",
       "      <td>0</td>\n",
       "    </tr>\n",
       "    <tr>\n",
       "      <th>1996</th>\n",
       "      <td>JULIO ANGUITA: \"El que debería estar en la cár...</td>\n",
       "      <td>0</td>\n",
       "    </tr>\n",
       "    <tr>\n",
       "      <th>1997</th>\n",
       "      <td>Otegi reclama la salida de prisión de todos lo...</td>\n",
       "      <td>0</td>\n",
       "    </tr>\n",
       "    <tr>\n",
       "      <th>1998</th>\n",
       "      <td>Otegi reclama la salida de prisión de todos lo...</td>\n",
       "      <td>0</td>\n",
       "    </tr>\n",
       "    <tr>\n",
       "      <th>1999</th>\n",
       "      <td>¡ALERTA! ¡Estos paquetes de merienda son pelig...</td>\n",
       "      <td>0</td>\n",
       "    </tr>\n",
       "  </tbody>\n",
       "</table>\n",
       "<p>2000 rows × 2 columns</p>\n",
       "</div>"
      ],
      "text/plain": [
       "                                                   text  class\n",
       "0      Algunas de las voces extremistas más conocida...      1\n",
       "1      Después de casi dos años y medio de luchas po...      1\n",
       "2      Dos periodistas birmanos de la agencia Reuter...      1\n",
       "3      El Cuerpo Nacional de Policía ha detenido a c...      1\n",
       "4      El desfile de la firma en Roma se convierte e...      1\n",
       "...                                                 ...    ...\n",
       "1995  Reenviado... Me acaban de llegar a casa por co...      0\n",
       "1996  JULIO ANGUITA: \"El que debería estar en la cár...      0\n",
       "1997  Otegi reclama la salida de prisión de todos lo...      0\n",
       "1998  Otegi reclama la salida de prisión de todos lo...      0\n",
       "1999  ¡ALERTA! ¡Estos paquetes de merienda son pelig...      0\n",
       "\n",
       "[2000 rows x 2 columns]"
      ]
     },
     "execution_count": 5,
     "metadata": {},
     "output_type": "execute_result"
    }
   ],
   "source": [
    "df = pd.concat([true_dataset, false_dataset], axis = 0).reset_index(drop=True)\n",
    "df"
   ]
  },
  {
   "cell_type": "markdown",
   "id": "efa0b7ba",
   "metadata": {},
   "source": [
    "<a id=\"3\"></a>\n",
    "## 3. Limpieza de Texto"
   ]
  },
  {
   "cell_type": "code",
   "execution_count": 6,
   "id": "44453fac",
   "metadata": {},
   "outputs": [
    {
     "name": "stdout",
     "output_type": "stream",
     "text": [
      "<class 'pandas.core.frame.DataFrame'>\n",
      "RangeIndex: 2000 entries, 0 to 1999\n",
      "Data columns (total 2 columns):\n",
      " #   Column  Non-Null Count  Dtype \n",
      "---  ------  --------------  ----- \n",
      " 0   text    2000 non-null   object\n",
      " 1   class   2000 non-null   int64 \n",
      "dtypes: int64(1), object(1)\n",
      "memory usage: 31.4+ KB\n"
     ]
    }
   ],
   "source": [
    "df.info()"
   ]
  },
  {
   "cell_type": "markdown",
   "id": "af70c9de",
   "metadata": {},
   "source": [
    "Observamos que \"class\" es de tipo entero, pero queremos que sea un dato categórico. A continuación se modifica el tipo de dato:"
   ]
  },
  {
   "cell_type": "code",
   "execution_count": 7,
   "id": "e8fd8469",
   "metadata": {},
   "outputs": [
    {
     "data": {
      "text/plain": [
       "text       object\n",
       "class    category\n",
       "dtype: object"
      ]
     },
     "execution_count": 7,
     "metadata": {},
     "output_type": "execute_result"
    }
   ],
   "source": [
    "df.astype({\"class\": \"category\"}).dtypes"
   ]
  },
  {
   "cell_type": "markdown",
   "id": "7f8deabb",
   "metadata": {},
   "source": [
    "Una vez tenemos bien catalogados los tipos de datos, ahora removeremos de las noticias todas las *stopwords*. Las *stopwords* son palabras que no aportan información relevante al texto, como \"el\", \"la\", \"y\", etc. Para ello, se utiliza la librería `nltk` y su lista de *stopwords* en español. Se eliminan las *stopwords* de cada noticia y se almacenan en una nueva columna llamada `clean_text`."
   ]
  },
  {
   "cell_type": "code",
   "execution_count": 8,
   "id": "c4cd1b53",
   "metadata": {},
   "outputs": [
    {
     "name": "stdout",
     "output_type": "stream",
     "text": [
      "Stop words: ['de', 'la', 'que', 'el', 'en', 'y', 'a', 'los', 'del', 'se', 'las', 'por', 'un', 'para', 'con', 'no', 'una', 'su', 'al', 'lo', 'como', 'más', 'pero', 'sus', 'le', 'ya', 'o', 'este', 'sí', 'porque', 'esta', 'entre', 'cuando', 'muy', 'sin', 'sobre', 'también', 'me', 'hasta', 'hay', 'donde', 'quien', 'desde', 'todo', 'nos', 'durante', 'todos', 'uno', 'les', 'ni', 'contra', 'otros', 'ese', 'eso', 'ante', 'ellos', 'e', 'esto', 'mí', 'antes', 'algunos', 'qué', 'unos', 'yo', 'otro', 'otras', 'otra', 'él', 'tanto', 'esa', 'estos', 'mucho', 'quienes', 'nada', 'muchos', 'cual', 'poco', 'ella', 'estar', 'estas', 'algunas', 'algo', 'nosotros', 'mi', 'mis', 'tú', 'te', 'ti', 'tu', 'tus', 'ellas', 'nosotras', 'vosotros', 'vosotras', 'os', 'mío', 'mía', 'míos', 'mías', 'tuyo', 'tuya', 'tuyos', 'tuyas', 'suyo', 'suya', 'suyos', 'suyas', 'nuestro', 'nuestra', 'nuestros', 'nuestras', 'vuestro', 'vuestra', 'vuestros', 'vuestras', 'esos', 'esas', 'estoy', 'estás', 'está', 'estamos', 'estáis', 'están', 'esté', 'estés', 'estemos', 'estéis', 'estén', 'estaré', 'estarás', 'estará', 'estaremos', 'estaréis', 'estarán', 'estaría', 'estarías', 'estaríamos', 'estaríais', 'estarían', 'estaba', 'estabas', 'estábamos', 'estabais', 'estaban', 'estuve', 'estuviste', 'estuvo', 'estuvimos', 'estuvisteis', 'estuvieron', 'estuviera', 'estuvieras', 'estuviéramos', 'estuvierais', 'estuvieran', 'estuviese', 'estuvieses', 'estuviésemos', 'estuvieseis', 'estuviesen', 'estando', 'estado', 'estada', 'estados', 'estadas', 'estad', 'he', 'has', 'ha', 'hemos', 'habéis', 'han', 'haya', 'hayas', 'hayamos', 'hayáis', 'hayan', 'habré', 'habrás', 'habrá', 'habremos', 'habréis', 'habrán', 'habría', 'habrías', 'habríamos', 'habríais', 'habrían', 'había', 'habías', 'habíamos', 'habíais', 'habían', 'hube', 'hubiste', 'hubo', 'hubimos', 'hubisteis', 'hubieron', 'hubiera', 'hubieras', 'hubiéramos', 'hubierais', 'hubieran', 'hubiese', 'hubieses', 'hubiésemos', 'hubieseis', 'hubiesen', 'habiendo', 'habido', 'habida', 'habidos', 'habidas', 'soy', 'eres', 'es', 'somos', 'sois', 'son', 'sea', 'seas', 'seamos', 'seáis', 'sean', 'seré', 'serás', 'será', 'seremos', 'seréis', 'serán', 'sería', 'serías', 'seríamos', 'seríais', 'serían', 'era', 'eras', 'éramos', 'erais', 'eran', 'fui', 'fuiste', 'fue', 'fuimos', 'fuisteis', 'fueron', 'fuera', 'fueras', 'fuéramos', 'fuerais', 'fueran', 'fuese', 'fueses', 'fuésemos', 'fueseis', 'fuesen', 'sintiendo', 'sentido', 'sentida', 'sentidos', 'sentidas', 'siente', 'sentid', 'tengo', 'tienes', 'tiene', 'tenemos', 'tenéis', 'tienen', 'tenga', 'tengas', 'tengamos', 'tengáis', 'tengan', 'tendré', 'tendrás', 'tendrá', 'tendremos', 'tendréis', 'tendrán', 'tendría', 'tendrías', 'tendríamos', 'tendríais', 'tendrían', 'tenía', 'tenías', 'teníamos', 'teníais', 'tenían', 'tuve', 'tuviste', 'tuvo', 'tuvimos', 'tuvisteis', 'tuvieron', 'tuviera', 'tuvieras', 'tuviéramos', 'tuvierais', 'tuvieran', 'tuviese', 'tuvieses', 'tuviésemos', 'tuvieseis', 'tuviesen', 'teniendo', 'tenido', 'tenida', 'tenidos', 'tenidas', 'tened', 'según', 'tras', 'cabe', 'bajo', 'durante', 'mediante', 'so', 'toda', 'todas', 'cada', 'me', 'después', 'despues', 'segun', 'solo', 'sido', 'estan', 'lunes', 'martes', 'miércoles', 'jueves', 'viernes']\n"
     ]
    }
   ],
   "source": [
    "stop_words = list(stopwords.words(\"spanish\"))\n",
    "\n",
    "# Añade algunas palabras que no están en el listado de NLTK\n",
    "stop_words.extend(['según','tras','cabe','bajo', 'durante', 'mediante', 'so','toda','todas',\n",
    "                   'cada','me','después','despues','segun','solo','sido','estan','lunes',\n",
    "                   'martes','miércoles','jueves','viernes'])\n",
    "print(\"Stop words:\", stop_words)"
   ]
  },
  {
   "cell_type": "code",
   "execution_count": 9,
   "id": "ce3de165",
   "metadata": {},
   "outputs": [],
   "source": [
    "# Función para eliminar stop words\n",
    "def remove_stop_words(text):\n",
    "    return ' '.join([word for word in text.split() if word not in stop_words])"
   ]
  },
  {
   "cell_type": "code",
   "execution_count": 10,
   "id": "59f69255",
   "metadata": {},
   "outputs": [],
   "source": [
    "# Aplica la función a la columna 'text'\n",
    "df[\"clean_text\"] = df[\"text\"].apply(remove_stop_words)"
   ]
  },
  {
   "cell_type": "code",
   "execution_count": 11,
   "id": "81019d90",
   "metadata": {},
   "outputs": [
    {
     "name": "stdout",
     "output_type": "stream",
     "text": [
      " El miedo a la pérdida de identidad y la aversión a los inmigrantes ha sido el combustible que ha hecho crecer a la extrema derecha en toda Europa. Sus líderes quieren convertirla en una fortaleza inexpugnable frente a quienes ahora la asedian con frágil\n"
     ]
    }
   ],
   "source": [
    "# Texto antes de eliminar stop words\n",
    "print(df[\"text\"][5])"
   ]
  },
  {
   "cell_type": "code",
   "execution_count": 12,
   "id": "27db9fc9",
   "metadata": {},
   "outputs": [
    {
     "name": "stdout",
     "output_type": "stream",
     "text": [
      "El miedo pérdida identidad aversión inmigrantes combustible hecho crecer extrema derecha Europa. Sus líderes quieren convertirla fortaleza inexpugnable frente ahora asedian frágil\n"
     ]
    }
   ],
   "source": [
    "# Texto después de eliminar stop words\n",
    "print(df[\"clean_text\"][5])"
   ]
  },
  {
   "cell_type": "code",
   "execution_count": 13,
   "id": "22358499",
   "metadata": {},
   "outputs": [
    {
     "data": {
      "text/html": [
       "<div>\n",
       "<style scoped>\n",
       "    .dataframe tbody tr th:only-of-type {\n",
       "        vertical-align: middle;\n",
       "    }\n",
       "\n",
       "    .dataframe tbody tr th {\n",
       "        vertical-align: top;\n",
       "    }\n",
       "\n",
       "    .dataframe thead th {\n",
       "        text-align: right;\n",
       "    }\n",
       "</style>\n",
       "<table border=\"1\" class=\"dataframe\">\n",
       "  <thead>\n",
       "    <tr style=\"text-align: right;\">\n",
       "      <th></th>\n",
       "      <th>text</th>\n",
       "      <th>class</th>\n",
       "      <th>clean_text</th>\n",
       "    </tr>\n",
       "  </thead>\n",
       "  <tbody>\n",
       "    <tr>\n",
       "      <th>0</th>\n",
       "      <td>Algunas de las voces extremistas más conocida...</td>\n",
       "      <td>1</td>\n",
       "      <td>Algunas voces extremistas conocidas EE.UU., cu...</td>\n",
       "    </tr>\n",
       "    <tr>\n",
       "      <th>1</th>\n",
       "      <td>Después de casi dos años y medio de luchas po...</td>\n",
       "      <td>1</td>\n",
       "      <td>Después casi dos años medio luchas políticas j...</td>\n",
       "    </tr>\n",
       "    <tr>\n",
       "      <th>2</th>\n",
       "      <td>Dos periodistas birmanos de la agencia Reuter...</td>\n",
       "      <td>1</td>\n",
       "      <td>Dos periodistas birmanos agencia Reuters liber...</td>\n",
       "    </tr>\n",
       "    <tr>\n",
       "      <th>3</th>\n",
       "      <td>El Cuerpo Nacional de Policía ha detenido a c...</td>\n",
       "      <td>1</td>\n",
       "      <td>El Cuerpo Nacional Policía detenido cuatro per...</td>\n",
       "    </tr>\n",
       "    <tr>\n",
       "      <th>4</th>\n",
       "      <td>El desfile de la firma en Roma se convierte e...</td>\n",
       "      <td>1</td>\n",
       "      <td>El desfile firma Roma convierte oda libertad m...</td>\n",
       "    </tr>\n",
       "    <tr>\n",
       "      <th>...</th>\n",
       "      <td>...</td>\n",
       "      <td>...</td>\n",
       "      <td>...</td>\n",
       "    </tr>\n",
       "    <tr>\n",
       "      <th>1995</th>\n",
       "      <td>Reenviado... Me acaban de llegar a casa por co...</td>\n",
       "      <td>0</td>\n",
       "      <td>Reenviado... Me acaban llegar casa correo pape...</td>\n",
       "    </tr>\n",
       "    <tr>\n",
       "      <th>1996</th>\n",
       "      <td>JULIO ANGUITA: \"El que debería estar en la cár...</td>\n",
       "      <td>0</td>\n",
       "      <td>JULIO ANGUITA: \"El debería cárcel Jordi Pujol,...</td>\n",
       "    </tr>\n",
       "    <tr>\n",
       "      <th>1997</th>\n",
       "      <td>Otegi reclama la salida de prisión de todos lo...</td>\n",
       "      <td>0</td>\n",
       "      <td>Otegi reclama salida prisión etarras apoyar in...</td>\n",
       "    </tr>\n",
       "    <tr>\n",
       "      <th>1998</th>\n",
       "      <td>Otegi reclama la salida de prisión de todos lo...</td>\n",
       "      <td>0</td>\n",
       "      <td>Otegi reclama salida prisión etarras apoyar in...</td>\n",
       "    </tr>\n",
       "    <tr>\n",
       "      <th>1999</th>\n",
       "      <td>¡ALERTA! ¡Estos paquetes de merienda son pelig...</td>\n",
       "      <td>0</td>\n",
       "      <td>¡ALERTA! ¡Estos paquetes merienda peligrosos! ...</td>\n",
       "    </tr>\n",
       "  </tbody>\n",
       "</table>\n",
       "<p>2000 rows × 3 columns</p>\n",
       "</div>"
      ],
      "text/plain": [
       "                                                   text  class  \\\n",
       "0      Algunas de las voces extremistas más conocida...      1   \n",
       "1      Después de casi dos años y medio de luchas po...      1   \n",
       "2      Dos periodistas birmanos de la agencia Reuter...      1   \n",
       "3      El Cuerpo Nacional de Policía ha detenido a c...      1   \n",
       "4      El desfile de la firma en Roma se convierte e...      1   \n",
       "...                                                 ...    ...   \n",
       "1995  Reenviado... Me acaban de llegar a casa por co...      0   \n",
       "1996  JULIO ANGUITA: \"El que debería estar en la cár...      0   \n",
       "1997  Otegi reclama la salida de prisión de todos lo...      0   \n",
       "1998  Otegi reclama la salida de prisión de todos lo...      0   \n",
       "1999  ¡ALERTA! ¡Estos paquetes de merienda son pelig...      0   \n",
       "\n",
       "                                             clean_text  \n",
       "0     Algunas voces extremistas conocidas EE.UU., cu...  \n",
       "1     Después casi dos años medio luchas políticas j...  \n",
       "2     Dos periodistas birmanos agencia Reuters liber...  \n",
       "3     El Cuerpo Nacional Policía detenido cuatro per...  \n",
       "4     El desfile firma Roma convierte oda libertad m...  \n",
       "...                                                 ...  \n",
       "1995  Reenviado... Me acaban llegar casa correo pape...  \n",
       "1996  JULIO ANGUITA: \"El debería cárcel Jordi Pujol,...  \n",
       "1997  Otegi reclama salida prisión etarras apoyar in...  \n",
       "1998  Otegi reclama salida prisión etarras apoyar in...  \n",
       "1999  ¡ALERTA! ¡Estos paquetes merienda peligrosos! ...  \n",
       "\n",
       "[2000 rows x 3 columns]"
      ]
     },
     "execution_count": 13,
     "metadata": {},
     "output_type": "execute_result"
    }
   ],
   "source": [
    "df"
   ]
  },
  {
   "cell_type": "markdown",
   "id": "7de7debf",
   "metadata": {},
   "source": [
    "<a id=\"4\"></a>\n",
    "## 4. Tokenización y Vectorización"
   ]
  },
  {
   "cell_type": "markdown",
   "id": "59efa4f6",
   "metadata": {},
   "source": [
    "Primero dividimos el *dataset* en dos partes, una para entrenamiento y otra para prueba. La parte de entrenamiento contiene el 80% de los datos y la parte de prueba contiene el 20% restante."
   ]
  },
  {
   "cell_type": "code",
   "execution_count": 14,
   "id": "32e56048",
   "metadata": {},
   "outputs": [
    {
     "name": "stdout",
     "output_type": "stream",
     "text": [
      "Tamaño del conjunto de entrenamiento: 1600\n",
      "Tamaño del conjunto de prueba: 400\n"
     ]
    }
   ],
   "source": [
    "X= df[\"clean_text\"]\n",
    "y= df[\"class\"]\n",
    "\n",
    "# Dividir el conjunto de datos en entrenamiento y prueba\n",
    "X_train, X_test, y_train, y_test = train_test_split(X, y, test_size=0.2, random_state=42)\n",
    "print(\"Tamaño del conjunto de entrenamiento:\", len(X_train))\n",
    "print(\"Tamaño del conjunto de prueba:\", len(X_test))"
   ]
  },
  {
   "cell_type": "markdown",
   "id": "19a02e73",
   "metadata": {},
   "source": [
    "Tokenizamos los datos para dividir las noticias en palabras individuales. Después, se utiliza la técnica de *vectorización* para convertir las palabras en números. Para ello, se utiliza el `CountVectorizer` de `sklearn`, que convierte cada palabra en un número entero único.\n",
    "\n",
    "Esto crea una matriz de números enteros, donde cada fila representa una noticia y cada columna representa una palabra del vocabulario. Los valores de la matriz son la cantidad de veces que aparece cada palabra en cada noticia."
   ]
  },
  {
   "cell_type": "code",
   "execution_count": 15,
   "id": "679a0fb5",
   "metadata": {},
   "outputs": [
    {
     "name": "stdout",
     "output_type": "stream",
     "text": [
      "Tamaño del conjunto de entrenamiento vectorizado: (1600, 11608)\n",
      "Tamaño del conjunto de prueba vectorizado: (400, 11608)\n"
     ]
    }
   ],
   "source": [
    "vect = CountVectorizer()\n",
    "X_train_vectorized = vect.fit_transform(X_train)\n",
    "X_test_vectorized = vect.transform(X_test)\n",
    "print(\"Tamaño del conjunto de entrenamiento vectorizado:\", X_train_vectorized.shape)\n",
    "print(\"Tamaño del conjunto de prueba vectorizado:\", X_test_vectorized.shape)"
   ]
  },
  {
   "cell_type": "markdown",
   "id": "422144cb",
   "metadata": {},
   "source": [
    "<a id=\"5\"></a>\n",
    "## 5. Comparación de Modelos Tradicionales\n",
    "\n",
    "En este proyecto se compararan tres modelos tradicionales distintos:\n",
    "\n",
    "1. Random Forest\n",
    "2. Naive Bayes\n",
    "3. Logistic Regression"
   ]
  },
  {
   "cell_type": "markdown",
   "id": "79c0f391",
   "metadata": {},
   "source": [
    "#### 1. Random Forest"
   ]
  },
  {
   "cell_type": "code",
   "execution_count": 16,
   "id": "a70b52e2",
   "metadata": {},
   "outputs": [
    {
     "name": "stdout",
     "output_type": "stream",
     "text": [
      "Exactitud de Random Forest: 71.25%\n"
     ]
    }
   ],
   "source": [
    "# Random Forest\n",
    "rf_model = RandomForestClassifier(random_state=42)\n",
    "rf_model.fit(X_train_vectorized, y_train)\n",
    "\n",
    "# Predicciones\n",
    "y_pred = rf_model.predict(X_test_vectorized)\n",
    "\n",
    "# Evaluación del modelo\n",
    "accuracy = accuracy_score(y_test, y_pred)\n",
    "print(\"Exactitud de Random Forest: %.2f%%\" % (accuracy*100.0))"
   ]
  },
  {
   "cell_type": "markdown",
   "id": "0ddcef86",
   "metadata": {},
   "source": [
    "#### 2. Naive Bayes"
   ]
  },
  {
   "cell_type": "code",
   "execution_count": 17,
   "id": "e746e7be",
   "metadata": {},
   "outputs": [
    {
     "name": "stdout",
     "output_type": "stream",
     "text": [
      "Exactitud de Naive Bayes: 76.75%\n"
     ]
    }
   ],
   "source": [
    "# Naive Bayes\n",
    "nb_model = MultinomialNB()\n",
    "nb_model.fit(X_train_vectorized, y_train)\n",
    "\n",
    "# Predicciones\n",
    "y_pred_nb = nb_model.predict(X_test_vectorized)\n",
    "\n",
    "# Evaluación del modelo\n",
    "accuracy_nb = accuracy_score(y_test, y_pred_nb)\n",
    "print(\"Exactitud de Naive Bayes: %.2f%%\" % (accuracy_nb*100.0))"
   ]
  },
  {
   "cell_type": "markdown",
   "id": "eb0aff78",
   "metadata": {},
   "source": [
    "#### 3. Logistic Regression"
   ]
  },
  {
   "cell_type": "code",
   "execution_count": 18,
   "id": "482c203b",
   "metadata": {},
   "outputs": [
    {
     "name": "stdout",
     "output_type": "stream",
     "text": [
      "Exactitud de Logistic Regression: 74.25%\n"
     ]
    }
   ],
   "source": [
    "# Logistic Regression\n",
    "lr_model = LogisticRegression()\n",
    "lr_model.fit(X_train_vectorized, y_train)\n",
    "\n",
    "# Predicciones\n",
    "y_pred_lr = lr_model.predict(X_test_vectorized)\n",
    "\n",
    "# Evaluación del modelo\n",
    "accuracy_lr = accuracy_score(y_test, y_pred_lr)\n",
    "print(\"Exactitud de Logistic Regression: %.2f%%\" % (accuracy_lr*100.0))"
   ]
  },
  {
   "cell_type": "markdown",
   "id": "792bef3b",
   "metadata": {},
   "source": [
    "Para comparar la exactitud de los modelos, se presenta una gráfica que muestra la precisión de cada modelo en el conjunto de prueba."
   ]
  },
  {
   "cell_type": "code",
   "execution_count": 19,
   "id": "fc6231c5",
   "metadata": {},
   "outputs": [
    {
     "name": "stderr",
     "output_type": "stream",
     "text": [
      "C:\\Users\\PC\\AppData\\Local\\Temp\\ipykernel_22616\\3853990229.py:6: FutureWarning: \n",
      "\n",
      "Passing `palette` without assigning `hue` is deprecated and will be removed in v0.14.0. Assign the `x` variable to `hue` and set `legend=False` for the same effect.\n",
      "\n",
      "  sns.barplot(x=modelos, y=exactitudes, palette='Set2')\n"
     ]
    },
    {
     "data": {
      "image/png": "[encoded data removed]",
      "text/plain": [
       "<Figure size 800x500 with 1 Axes>"
      ]
     },
     "metadata": {},
     "output_type": "display_data"
    }
   ],
   "source": [
    "# Gráfica de comparación de exactitudes de los modelos tradicionales\n",
    "modelos = ['Random Forest', 'Naive Bayes', 'Logistic Regression']\n",
    "exactitudes = [accuracy*100, accuracy_nb*100, accuracy_lr*100]\n",
    "\n",
    "plt.figure(figsize=(8,5))\n",
    "sns.barplot(x=modelos, y=exactitudes, palette='Set2')\n",
    "plt.ylabel('Exactitud (%)')\n",
    "plt.ylim(0, 100)\n",
    "plt.title('Comparación de Exactitud de Modelos Tradicionales')\n",
    "for i, v in enumerate(exactitudes):\n",
    "    plt.text(i, v + 1, f\"{v:.2f}%\", ha='center', fontweight='bold')\n",
    "plt.show()"
   ]
  },
  {
   "cell_type": "markdown",
   "id": "de2ee66e",
   "metadata": {},
   "source": [
    "El modelo con mayor exactitud resultó ser Naive Bayes con un $76.76\\%$. Este será nuestro modelo final."
   ]
  },
  {
   "cell_type": "markdown",
   "id": "fba79f1e",
   "metadata": {},
   "source": [
    "<a id=\"6\"></a>\n",
    "## 6. Probando el Modelo Naive Bayes"
   ]
  },
  {
   "cell_type": "markdown",
   "id": "638bcf1b",
   "metadata": {},
   "source": [
    "Tenemos el siguiente *dataset* de prueba:"
   ]
  },
  {
   "cell_type": "code",
   "execution_count": 85,
   "id": "3da500ff",
   "metadata": {},
   "outputs": [
    {
     "data": {
      "text/html": [
       "<div>\n",
       "<style scoped>\n",
       "    .dataframe tbody tr th:only-of-type {\n",
       "        vertical-align: middle;\n",
       "    }\n",
       "\n",
       "    .dataframe tbody tr th {\n",
       "        vertical-align: top;\n",
       "    }\n",
       "\n",
       "    .dataframe thead th {\n",
       "        text-align: right;\n",
       "    }\n",
       "</style>\n",
       "<table border=\"1\" class=\"dataframe\">\n",
       "  <thead>\n",
       "    <tr style=\"text-align: right;\">\n",
       "      <th></th>\n",
       "      <th>title</th>\n",
       "      <th>text</th>\n",
       "    </tr>\n",
       "  </thead>\n",
       "  <tbody>\n",
       "    <tr>\n",
       "      <th>0</th>\n",
       "      <td>Podemos estudia en su programa playas para muj...</td>\n",
       "      <td>Spanish nationalism rabid that a Catalan compa...</td>\n",
       "    </tr>\n",
       "    <tr>\n",
       "      <th>1</th>\n",
       "      <td>Alemania va a quitar los hijos a los padres po...</td>\n",
       "      <td>Su amante, llamó al marido llorando y le contó...</td>\n",
       "    </tr>\n",
       "    <tr>\n",
       "      <th>2</th>\n",
       "      <td>Valencia multará los balcones con banderas por...</td>\n",
       "      <td>SUBEN LAS PENSIONES 1 EURO Y SUBEN EL RECIBO D...</td>\n",
       "    </tr>\n",
       "    <tr>\n",
       "      <th>3</th>\n",
       "      <td>Un directivo de Hazte Oír se besa con una muje...</td>\n",
       "      <td>Suecia está haciendo un experimento, ha reduci...</td>\n",
       "    </tr>\n",
       "    <tr>\n",
       "      <th>4</th>\n",
       "      <td>Iglesias y Montero se compran también un apart...</td>\n",
       "      <td>Suecia sigue avanzando hacia su islamización. ...</td>\n",
       "    </tr>\n",
       "    <tr>\n",
       "      <th>...</th>\n",
       "      <td>...</td>\n",
       "      <td>...</td>\n",
       "    </tr>\n",
       "    <tr>\n",
       "      <th>395</th>\n",
       "      <td>Aumenta un 88,7% el número de autónomos mayore...</td>\n",
       "      <td>El Consejo de Gobierno ha dado su visto bueno...</td>\n",
       "    </tr>\n",
       "    <tr>\n",
       "      <th>396</th>\n",
       "      <td>Asesinan a un periodista involucrado en la luc...</td>\n",
       "      <td>Investigadores valencianos han desarrollado u...</td>\n",
       "    </tr>\n",
       "    <tr>\n",
       "      <th>397</th>\n",
       "      <td>La fértil cosecha de Porfirio Fisac en el Zara...</td>\n",
       "      <td>Los arrestados actuaban en coches y en establ...</td>\n",
       "    </tr>\n",
       "    <tr>\n",
       "      <th>398</th>\n",
       "      <td>Antonio Banderas: Mi novia me salvó la vida co...</td>\n",
       "      <td>El Rey ha encargado este miércoles a Pedro Sá...</td>\n",
       "    </tr>\n",
       "    <tr>\n",
       "      <th>399</th>\n",
       "      <td>Cuatro quesos de Castilla-La Mancha, entre los...</td>\n",
       "      <td>Las pruebas realizadas en el Centro Nacional ...</td>\n",
       "    </tr>\n",
       "  </tbody>\n",
       "</table>\n",
       "<p>400 rows × 2 columns</p>\n",
       "</div>"
      ],
      "text/plain": [
       "                                                 title  \\\n",
       "0    Podemos estudia en su programa playas para muj...   \n",
       "1    Alemania va a quitar los hijos a los padres po...   \n",
       "2    Valencia multará los balcones con banderas por...   \n",
       "3    Un directivo de Hazte Oír se besa con una muje...   \n",
       "4    Iglesias y Montero se compran también un apart...   \n",
       "..                                                 ...   \n",
       "395  Aumenta un 88,7% el número de autónomos mayore...   \n",
       "396  Asesinan a un periodista involucrado en la luc...   \n",
       "397  La fértil cosecha de Porfirio Fisac en el Zara...   \n",
       "398  Antonio Banderas: Mi novia me salvó la vida co...   \n",
       "399  Cuatro quesos de Castilla-La Mancha, entre los...   \n",
       "\n",
       "                                                  text  \n",
       "0    Spanish nationalism rabid that a Catalan compa...  \n",
       "1    Su amante, llamó al marido llorando y le contó...  \n",
       "2    SUBEN LAS PENSIONES 1 EURO Y SUBEN EL RECIBO D...  \n",
       "3    Suecia está haciendo un experimento, ha reduci...  \n",
       "4    Suecia sigue avanzando hacia su islamización. ...  \n",
       "..                                                 ...  \n",
       "395   El Consejo de Gobierno ha dado su visto bueno...  \n",
       "396   Investigadores valencianos han desarrollado u...  \n",
       "397   Los arrestados actuaban en coches y en establ...  \n",
       "398   El Rey ha encargado este miércoles a Pedro Sá...  \n",
       "399   Las pruebas realizadas en el Centro Nacional ...  \n",
       "\n",
       "[400 rows x 2 columns]"
      ]
     },
     "execution_count": 85,
     "metadata": {},
     "output_type": "execute_result"
    }
   ],
   "source": [
    "test_df = pd.read_csv(\"data/test.csv\")\n",
    "test_df"
   ]
  },
  {
   "cell_type": "markdown",
   "id": "9c3229cd",
   "metadata": {},
   "source": [
    "Eliminamos los registros faltantes y aplicamos la función de limpieza de texto."
   ]
  },
  {
   "cell_type": "code",
   "execution_count": 86,
   "id": "7dc9bb48",
   "metadata": {},
   "outputs": [
    {
     "data": {
      "text/html": [
       "<div>\n",
       "<style scoped>\n",
       "    .dataframe tbody tr th:only-of-type {\n",
       "        vertical-align: middle;\n",
       "    }\n",
       "\n",
       "    .dataframe tbody tr th {\n",
       "        vertical-align: top;\n",
       "    }\n",
       "\n",
       "    .dataframe thead th {\n",
       "        text-align: right;\n",
       "    }\n",
       "</style>\n",
       "<table border=\"1\" class=\"dataframe\">\n",
       "  <thead>\n",
       "    <tr style=\"text-align: right;\">\n",
       "      <th></th>\n",
       "      <th>title</th>\n",
       "      <th>text</th>\n",
       "      <th>clean_text</th>\n",
       "    </tr>\n",
       "  </thead>\n",
       "  <tbody>\n",
       "    <tr>\n",
       "      <th>0</th>\n",
       "      <td>Podemos estudia en su programa playas para muj...</td>\n",
       "      <td>Spanish nationalism rabid that a Catalan compa...</td>\n",
       "      <td>Spanish nationalism rabid that Catalan company...</td>\n",
       "    </tr>\n",
       "    <tr>\n",
       "      <th>1</th>\n",
       "      <td>Alemania va a quitar los hijos a los padres po...</td>\n",
       "      <td>Su amante, llamó al marido llorando y le contó...</td>\n",
       "      <td>Su amante, llamó marido llorando contó pasando...</td>\n",
       "    </tr>\n",
       "    <tr>\n",
       "      <th>2</th>\n",
       "      <td>Valencia multará los balcones con banderas por...</td>\n",
       "      <td>SUBEN LAS PENSIONES 1 EURO Y SUBEN EL RECIBO D...</td>\n",
       "      <td>SUBEN LAS PENSIONES 1 EURO Y SUBEN EL RECIBO D...</td>\n",
       "    </tr>\n",
       "    <tr>\n",
       "      <th>3</th>\n",
       "      <td>Un directivo de Hazte Oír se besa con una muje...</td>\n",
       "      <td>Suecia está haciendo un experimento, ha reduci...</td>\n",
       "      <td>Suecia haciendo experimento, reducido jornada ...</td>\n",
       "    </tr>\n",
       "    <tr>\n",
       "      <th>4</th>\n",
       "      <td>Iglesias y Montero se compran también un apart...</td>\n",
       "      <td>Suecia sigue avanzando hacia su islamización. ...</td>\n",
       "      <td>Suecia sigue avanzando hacia islamización. Seg...</td>\n",
       "    </tr>\n",
       "    <tr>\n",
       "      <th>...</th>\n",
       "      <td>...</td>\n",
       "      <td>...</td>\n",
       "      <td>...</td>\n",
       "    </tr>\n",
       "    <tr>\n",
       "      <th>395</th>\n",
       "      <td>Aumenta un 88,7% el número de autónomos mayore...</td>\n",
       "      <td>El Consejo de Gobierno ha dado su visto bueno...</td>\n",
       "      <td>El Consejo Gobierno dado visto bueno convocato...</td>\n",
       "    </tr>\n",
       "    <tr>\n",
       "      <th>396</th>\n",
       "      <td>Asesinan a un periodista involucrado en la luc...</td>\n",
       "      <td>Investigadores valencianos han desarrollado u...</td>\n",
       "      <td>Investigadores valencianos desarrollado innova...</td>\n",
       "    </tr>\n",
       "    <tr>\n",
       "      <th>397</th>\n",
       "      <td>La fértil cosecha de Porfirio Fisac en el Zara...</td>\n",
       "      <td>Los arrestados actuaban en coches y en establ...</td>\n",
       "      <td>Los arrestados actuaban coches establecimiento...</td>\n",
       "    </tr>\n",
       "    <tr>\n",
       "      <th>398</th>\n",
       "      <td>Antonio Banderas: Mi novia me salvó la vida co...</td>\n",
       "      <td>El Rey ha encargado este miércoles a Pedro Sá...</td>\n",
       "      <td>El Rey encargado Pedro Sánchez presente invest...</td>\n",
       "    </tr>\n",
       "    <tr>\n",
       "      <th>399</th>\n",
       "      <td>Cuatro quesos de Castilla-La Mancha, entre los...</td>\n",
       "      <td>Las pruebas realizadas en el Centro Nacional ...</td>\n",
       "      <td>Las pruebas realizadas Centro Nacional Microbi...</td>\n",
       "    </tr>\n",
       "  </tbody>\n",
       "</table>\n",
       "<p>400 rows × 3 columns</p>\n",
       "</div>"
      ],
      "text/plain": [
       "                                                 title  \\\n",
       "0    Podemos estudia en su programa playas para muj...   \n",
       "1    Alemania va a quitar los hijos a los padres po...   \n",
       "2    Valencia multará los balcones con banderas por...   \n",
       "3    Un directivo de Hazte Oír se besa con una muje...   \n",
       "4    Iglesias y Montero se compran también un apart...   \n",
       "..                                                 ...   \n",
       "395  Aumenta un 88,7% el número de autónomos mayore...   \n",
       "396  Asesinan a un periodista involucrado en la luc...   \n",
       "397  La fértil cosecha de Porfirio Fisac en el Zara...   \n",
       "398  Antonio Banderas: Mi novia me salvó la vida co...   \n",
       "399  Cuatro quesos de Castilla-La Mancha, entre los...   \n",
       "\n",
       "                                                  text  \\\n",
       "0    Spanish nationalism rabid that a Catalan compa...   \n",
       "1    Su amante, llamó al marido llorando y le contó...   \n",
       "2    SUBEN LAS PENSIONES 1 EURO Y SUBEN EL RECIBO D...   \n",
       "3    Suecia está haciendo un experimento, ha reduci...   \n",
       "4    Suecia sigue avanzando hacia su islamización. ...   \n",
       "..                                                 ...   \n",
       "395   El Consejo de Gobierno ha dado su visto bueno...   \n",
       "396   Investigadores valencianos han desarrollado u...   \n",
       "397   Los arrestados actuaban en coches y en establ...   \n",
       "398   El Rey ha encargado este miércoles a Pedro Sá...   \n",
       "399   Las pruebas realizadas en el Centro Nacional ...   \n",
       "\n",
       "                                            clean_text  \n",
       "0    Spanish nationalism rabid that Catalan company...  \n",
       "1    Su amante, llamó marido llorando contó pasando...  \n",
       "2    SUBEN LAS PENSIONES 1 EURO Y SUBEN EL RECIBO D...  \n",
       "3    Suecia haciendo experimento, reducido jornada ...  \n",
       "4    Suecia sigue avanzando hacia islamización. Seg...  \n",
       "..                                                 ...  \n",
       "395  El Consejo Gobierno dado visto bueno convocato...  \n",
       "396  Investigadores valencianos desarrollado innova...  \n",
       "397  Los arrestados actuaban coches establecimiento...  \n",
       "398  El Rey encargado Pedro Sánchez presente invest...  \n",
       "399  Las pruebas realizadas Centro Nacional Microbi...  \n",
       "\n",
       "[400 rows x 3 columns]"
      ]
     },
     "execution_count": 86,
     "metadata": {},
     "output_type": "execute_result"
    }
   ],
   "source": [
    "test_df.dropna(subset=[\"text\"], inplace=True)\n",
    "test_df[\"clean_text\"] = test_df[\"text\"].apply(remove_stop_words)\n",
    "test_df"
   ]
  },
  {
   "cell_type": "markdown",
   "id": "6aaa756d",
   "metadata": {},
   "source": [
    "A continuación se convierte el texto a una matriz de conteo de tokens:"
   ]
  },
  {
   "cell_type": "code",
   "execution_count": 87,
   "id": "9997a3c3",
   "metadata": {},
   "outputs": [],
   "source": [
    "test_dtm = vect.transform(test_df[\"clean_text\"])"
   ]
  },
  {
   "cell_type": "markdown",
   "id": "87cc456e",
   "metadata": {},
   "source": [
    "Ahora realizamos la predicción:"
   ]
  },
  {
   "cell_type": "code",
   "execution_count": 89,
   "id": "81052a44",
   "metadata": {},
   "outputs": [
    {
     "data": {
      "text/plain": [
       "predicted_class\n",
       "True    202\n",
       "Fake    198\n",
       "Name: count, dtype: int64"
      ]
     },
     "execution_count": 89,
     "metadata": {},
     "output_type": "execute_result"
    }
   ],
   "source": [
    "y_pred_test = nb_model.predict(test_dtm)\n",
    "test_df[\"predicted_class\"] = pd.Series(y_pred_test).map({1: \"True\", 0: \"Fake\"})\n",
    "test_df[\"predicted_class\"].value_counts()"
   ]
  },
  {
   "cell_type": "markdown",
   "id": "d9fff2fd",
   "metadata": {},
   "source": [
    "En total tenemos se predicen:\n",
    "- 202 noticias verdaderas.\n",
    "- 198 noticias falsas."
   ]
  },
  {
   "cell_type": "markdown",
   "id": "7bb56847",
   "metadata": {},
   "source": [
    "Observamos las primeras 5 noticias predichas como verdaderas:"
   ]
  },
  {
   "cell_type": "code",
   "execution_count": 90,
   "id": "3de5e63b",
   "metadata": {},
   "outputs": [
    {
     "data": {
      "text/html": [
       "<div>\n",
       "<style scoped>\n",
       "    .dataframe tbody tr th:only-of-type {\n",
       "        vertical-align: middle;\n",
       "    }\n",
       "\n",
       "    .dataframe tbody tr th {\n",
       "        vertical-align: top;\n",
       "    }\n",
       "\n",
       "    .dataframe thead th {\n",
       "        text-align: right;\n",
       "    }\n",
       "</style>\n",
       "<table border=\"1\" class=\"dataframe\">\n",
       "  <thead>\n",
       "    <tr style=\"text-align: right;\">\n",
       "      <th></th>\n",
       "      <th>title</th>\n",
       "      <th>text</th>\n",
       "      <th>clean_text</th>\n",
       "      <th>predicted_class</th>\n",
       "    </tr>\n",
       "  </thead>\n",
       "  <tbody>\n",
       "    <tr>\n",
       "      <th>18</th>\n",
       "      <td>NaN</td>\n",
       "      <td>Tremendo vídeo el que ha publicado 'Il Giornal...</td>\n",
       "      <td>Tremendo vídeo publicado 'Il Giornale'. En pue...</td>\n",
       "      <td>True</td>\n",
       "    </tr>\n",
       "    <tr>\n",
       "      <th>47</th>\n",
       "      <td>NaN</td>\n",
       "      <td>Un informe elaborado por una de las oficinas d...</td>\n",
       "      <td>Un informe elaborado oficinas Parlamento Europ...</td>\n",
       "      <td>True</td>\n",
       "    </tr>\n",
       "    <tr>\n",
       "      <th>100</th>\n",
       "      <td>Entra en prisión el joven condenado a 6 años p...</td>\n",
       "      <td>La cuenta atrás terminó diez minutos antes de ...</td>\n",
       "      <td>La cuenta atrás terminó diez minutos siete tar...</td>\n",
       "      <td>True</td>\n",
       "    </tr>\n",
       "    <tr>\n",
       "      <th>111</th>\n",
       "      <td>NaN</td>\n",
       "      <td>Esta tarde un agente del indicativo Puma 70 de...</td>\n",
       "      <td>Esta tarde agente indicativo Puma 70 Unidad In...</td>\n",
       "      <td>True</td>\n",
       "    </tr>\n",
       "    <tr>\n",
       "      <th>122</th>\n",
       "      <td>NaN</td>\n",
       "      <td>Última hora | Un edificio arde presa de las ll...</td>\n",
       "      <td>Última hora | Un edificio arde presa llamas. L...</td>\n",
       "      <td>True</td>\n",
       "    </tr>\n",
       "  </tbody>\n",
       "</table>\n",
       "</div>"
      ],
      "text/plain": [
       "                                                 title  \\\n",
       "18                                                 NaN   \n",
       "47                                                 NaN   \n",
       "100  Entra en prisión el joven condenado a 6 años p...   \n",
       "111                                                NaN   \n",
       "122                                                NaN   \n",
       "\n",
       "                                                  text  \\\n",
       "18   Tremendo vídeo el que ha publicado 'Il Giornal...   \n",
       "47   Un informe elaborado por una de las oficinas d...   \n",
       "100  La cuenta atrás terminó diez minutos antes de ...   \n",
       "111  Esta tarde un agente del indicativo Puma 70 de...   \n",
       "122  Última hora | Un edificio arde presa de las ll...   \n",
       "\n",
       "                                            clean_text predicted_class  \n",
       "18   Tremendo vídeo publicado 'Il Giornale'. En pue...            True  \n",
       "47   Un informe elaborado oficinas Parlamento Europ...            True  \n",
       "100  La cuenta atrás terminó diez minutos siete tar...            True  \n",
       "111  Esta tarde agente indicativo Puma 70 Unidad In...            True  \n",
       "122  Última hora | Un edificio arde presa llamas. L...            True  "
      ]
     },
     "execution_count": 90,
     "metadata": {},
     "output_type": "execute_result"
    }
   ],
   "source": [
    "test_df[test_df[\"predicted_class\"] == \"True\"].head(5)"
   ]
  },
  {
   "cell_type": "markdown",
   "id": "9f9bacec",
   "metadata": {},
   "source": [
    "Y las primeras 5 noticias predichas como falsas:"
   ]
  },
  {
   "cell_type": "code",
   "execution_count": 91,
   "id": "e73d37ea",
   "metadata": {},
   "outputs": [
    {
     "data": {
      "text/html": [
       "<div>\n",
       "<style scoped>\n",
       "    .dataframe tbody tr th:only-of-type {\n",
       "        vertical-align: middle;\n",
       "    }\n",
       "\n",
       "    .dataframe tbody tr th {\n",
       "        vertical-align: top;\n",
       "    }\n",
       "\n",
       "    .dataframe thead th {\n",
       "        text-align: right;\n",
       "    }\n",
       "</style>\n",
       "<table border=\"1\" class=\"dataframe\">\n",
       "  <thead>\n",
       "    <tr style=\"text-align: right;\">\n",
       "      <th></th>\n",
       "      <th>title</th>\n",
       "      <th>text</th>\n",
       "      <th>clean_text</th>\n",
       "      <th>predicted_class</th>\n",
       "    </tr>\n",
       "  </thead>\n",
       "  <tbody>\n",
       "    <tr>\n",
       "      <th>0</th>\n",
       "      <td>Podemos estudia en su programa playas para muj...</td>\n",
       "      <td>Spanish nationalism rabid that a Catalan compa...</td>\n",
       "      <td>Spanish nationalism rabid that Catalan company...</td>\n",
       "      <td>Fake</td>\n",
       "    </tr>\n",
       "    <tr>\n",
       "      <th>1</th>\n",
       "      <td>Alemania va a quitar los hijos a los padres po...</td>\n",
       "      <td>Su amante, llamó al marido llorando y le contó...</td>\n",
       "      <td>Su amante, llamó marido llorando contó pasando...</td>\n",
       "      <td>Fake</td>\n",
       "    </tr>\n",
       "    <tr>\n",
       "      <th>2</th>\n",
       "      <td>Valencia multará los balcones con banderas por...</td>\n",
       "      <td>SUBEN LAS PENSIONES 1 EURO Y SUBEN EL RECIBO D...</td>\n",
       "      <td>SUBEN LAS PENSIONES 1 EURO Y SUBEN EL RECIBO D...</td>\n",
       "      <td>Fake</td>\n",
       "    </tr>\n",
       "    <tr>\n",
       "      <th>3</th>\n",
       "      <td>Un directivo de Hazte Oír se besa con una muje...</td>\n",
       "      <td>Suecia está haciendo un experimento, ha reduci...</td>\n",
       "      <td>Suecia haciendo experimento, reducido jornada ...</td>\n",
       "      <td>Fake</td>\n",
       "    </tr>\n",
       "    <tr>\n",
       "      <th>4</th>\n",
       "      <td>Iglesias y Montero se compran también un apart...</td>\n",
       "      <td>Suecia sigue avanzando hacia su islamización. ...</td>\n",
       "      <td>Suecia sigue avanzando hacia islamización. Seg...</td>\n",
       "      <td>Fake</td>\n",
       "    </tr>\n",
       "  </tbody>\n",
       "</table>\n",
       "</div>"
      ],
      "text/plain": [
       "                                               title  \\\n",
       "0  Podemos estudia en su programa playas para muj...   \n",
       "1  Alemania va a quitar los hijos a los padres po...   \n",
       "2  Valencia multará los balcones con banderas por...   \n",
       "3  Un directivo de Hazte Oír se besa con una muje...   \n",
       "4  Iglesias y Montero se compran también un apart...   \n",
       "\n",
       "                                                text  \\\n",
       "0  Spanish nationalism rabid that a Catalan compa...   \n",
       "1  Su amante, llamó al marido llorando y le contó...   \n",
       "2  SUBEN LAS PENSIONES 1 EURO Y SUBEN EL RECIBO D...   \n",
       "3  Suecia está haciendo un experimento, ha reduci...   \n",
       "4  Suecia sigue avanzando hacia su islamización. ...   \n",
       "\n",
       "                                          clean_text predicted_class  \n",
       "0  Spanish nationalism rabid that Catalan company...            Fake  \n",
       "1  Su amante, llamó marido llorando contó pasando...            Fake  \n",
       "2  SUBEN LAS PENSIONES 1 EURO Y SUBEN EL RECIBO D...            Fake  \n",
       "3  Suecia haciendo experimento, reducido jornada ...            Fake  \n",
       "4  Suecia sigue avanzando hacia islamización. Seg...            Fake  "
      ]
     },
     "execution_count": 91,
     "metadata": {},
     "output_type": "execute_result"
    }
   ],
   "source": [
    "test_df[test_df[\"predicted_class\"] == \"Fake\"].head(5)"
   ]
  },
  {
   "cell_type": "markdown",
   "id": "1224ce6c",
   "metadata": {},
   "source": [
    "<a id=\"7\"></a>\n",
    "## 7. Implementación con el modelo SaBERT"
   ]
  },
  {
   "cell_type": "markdown",
   "id": "2dda9d9d",
   "metadata": {},
   "source": [
    "Cargamos el modelo pre-entrenado de SaBERT de Hugging Face, el cual fue entrenado con un *dataset* de 125,000 noticias falsas y verdaderas en español."
   ]
  },
  {
   "cell_type": "code",
   "execution_count": null,
   "id": "fbb4faa1",
   "metadata": {},
   "outputs": [],
   "source": [
    "model = BertForSequenceClassification.from_pretrained(\"VerificadoProfesional/SaBERT-Spanish-Fake-News\")\n",
    "tokenizer = BertTokenizer.from_pretrained(\"VerificadoProfesional/SaBERT-Spanish-Fake-News\")"
   ]
  },
  {
   "cell_type": "markdown",
   "id": "a5e5e74b",
   "metadata": {},
   "source": [
    "Función de predicción para el modelo SaBERT:"
   ]
  },
  {
   "cell_type": "code",
   "execution_count": 121,
   "id": "c4bae08e",
   "metadata": {},
   "outputs": [],
   "source": [
    "# Función para hacer predicciones en lote\n",
    "def predict_batch(model, tokenizer, texts, threshold=0.5, batch_size=16):\n",
    "    predictions = []\n",
    "    probabilities_list = []\n",
    "    \n",
    "    # Procesar en lotes para ser más eficiente\n",
    "    for i in tqdm(range(0, len(texts), batch_size), desc=\"Prediciendo con SaBERT\"):\n",
    "        batch_texts = texts[i:i+batch_size]\n",
    "        \n",
    "        # Tokenizar el lote\n",
    "        inputs = tokenizer(batch_texts, return_tensors=\"pt\", padding=True, \n",
    "                          truncation=True, max_length=512)\n",
    "        \n",
    "        with torch.no_grad():\n",
    "            outputs = model(**inputs)\n",
    "        \n",
    "        logits = outputs.logits\n",
    "        probabilities = torch.softmax(logits, dim=1)\n",
    "        predicted_classes = torch.argmax(logits, dim=1)\n",
    "        \n",
    "        # Aplicar threshold y mapear predicciones\n",
    "        for j, pred_class in enumerate(predicted_classes):\n",
    "            prob = probabilities[j].tolist()\n",
    "            \n",
    "            # Aplicar threshold\n",
    "            if prob[pred_class.item()] <= threshold and pred_class.item() == 1:\n",
    "                pred_class = 0\n",
    "            \n",
    "            \n",
    "            predictions.append(pred_class.item())\n",
    "            probabilities_list.append(prob)\n",
    "    \n",
    "    return predictions, probabilities_list"
   ]
  },
  {
   "cell_type": "markdown",
   "id": "68f632c9",
   "metadata": {},
   "source": [
    "A continuación se prueba el modelo con el *dataset* de entrenamiento utilizado anteriormente con los modelos tradicionales."
   ]
  },
  {
   "cell_type": "code",
   "execution_count": 103,
   "id": "6e3bf2c1",
   "metadata": {},
   "outputs": [
    {
     "name": "stderr",
     "output_type": "stream",
     "text": [
      "Prediciendo con BERT: 100%|██████████| 25/25 [00:08<00:00,  2.83it/s]\n"
     ]
    }
   ],
   "source": [
    "y_pred_bert, bert_probabilities = predict_batch(model, tokenizer, X_test.tolist())"
   ]
  },
  {
   "cell_type": "code",
   "execution_count": 151,
   "id": "72cf225d",
   "metadata": {},
   "outputs": [
    {
     "name": "stdout",
     "output_type": "stream",
     "text": [
      "Accuracy BERT: 55.00%\n"
     ]
    }
   ],
   "source": [
    "# Calcula métricas de evaluación\n",
    "accuracy_bert = accuracy_score(y_test, y_pred_bert)\n",
    "print(\"Accuracy BERT: %.2f%%\" % (accuracy_bert*100.0))"
   ]
  },
  {
   "cell_type": "markdown",
   "id": "95709e18",
   "metadata": {},
   "source": [
    "La exactitud del modelo SaBERT resultante fue del $55\\%$, lo que indica un desempeño deficiente, especialmente en comparación con el modelo Naive Bayes, que tuvo una exactitud del $76.76\\%$. Esto sugiere que el modelo SaBERT no es adecuado para la tarea de clasificación de noticias en este caso particular."
   ]
  },
  {
   "cell_type": "markdown",
   "id": "64b98271",
   "metadata": {},
   "source": [
    "<a id=\"8\"></a>\n",
    "## 8. Probando el Modelo SaBERT\n",
    "\n",
    "Evaluamos el modelo SaBERT con el mismo *dataset* de prueba usado en el modelo Naive Bayes en el punto 6."
   ]
  },
  {
   "cell_type": "code",
   "execution_count": 119,
   "id": "47bf741d",
   "metadata": {},
   "outputs": [
    {
     "data": {
      "text/html": [
       "<div>\n",
       "<style scoped>\n",
       "    .dataframe tbody tr th:only-of-type {\n",
       "        vertical-align: middle;\n",
       "    }\n",
       "\n",
       "    .dataframe tbody tr th {\n",
       "        vertical-align: top;\n",
       "    }\n",
       "\n",
       "    .dataframe thead th {\n",
       "        text-align: right;\n",
       "    }\n",
       "</style>\n",
       "<table border=\"1\" class=\"dataframe\">\n",
       "  <thead>\n",
       "    <tr style=\"text-align: right;\">\n",
       "      <th></th>\n",
       "      <th>title</th>\n",
       "      <th>text</th>\n",
       "      <th>clean_text</th>\n",
       "    </tr>\n",
       "  </thead>\n",
       "  <tbody>\n",
       "    <tr>\n",
       "      <th>0</th>\n",
       "      <td>Podemos estudia en su programa playas para muj...</td>\n",
       "      <td>Spanish nationalism rabid that a Catalan compa...</td>\n",
       "      <td>Spanish nationalism rabid that Catalan company...</td>\n",
       "    </tr>\n",
       "    <tr>\n",
       "      <th>1</th>\n",
       "      <td>Alemania va a quitar los hijos a los padres po...</td>\n",
       "      <td>Su amante, llamó al marido llorando y le contó...</td>\n",
       "      <td>Su amante, llamó marido llorando contó pasando...</td>\n",
       "    </tr>\n",
       "    <tr>\n",
       "      <th>2</th>\n",
       "      <td>Valencia multará los balcones con banderas por...</td>\n",
       "      <td>SUBEN LAS PENSIONES 1 EURO Y SUBEN EL RECIBO D...</td>\n",
       "      <td>SUBEN LAS PENSIONES 1 EURO Y SUBEN EL RECIBO D...</td>\n",
       "    </tr>\n",
       "    <tr>\n",
       "      <th>3</th>\n",
       "      <td>Un directivo de Hazte Oír se besa con una muje...</td>\n",
       "      <td>Suecia está haciendo un experimento, ha reduci...</td>\n",
       "      <td>Suecia haciendo experimento, reducido jornada ...</td>\n",
       "    </tr>\n",
       "    <tr>\n",
       "      <th>4</th>\n",
       "      <td>Iglesias y Montero se compran también un apart...</td>\n",
       "      <td>Suecia sigue avanzando hacia su islamización. ...</td>\n",
       "      <td>Suecia sigue avanzando hacia islamización. Seg...</td>\n",
       "    </tr>\n",
       "    <tr>\n",
       "      <th>...</th>\n",
       "      <td>...</td>\n",
       "      <td>...</td>\n",
       "      <td>...</td>\n",
       "    </tr>\n",
       "    <tr>\n",
       "      <th>395</th>\n",
       "      <td>Aumenta un 88,7% el número de autónomos mayore...</td>\n",
       "      <td>El Consejo de Gobierno ha dado su visto bueno...</td>\n",
       "      <td>El Consejo Gobierno dado visto bueno convocato...</td>\n",
       "    </tr>\n",
       "    <tr>\n",
       "      <th>396</th>\n",
       "      <td>Asesinan a un periodista involucrado en la luc...</td>\n",
       "      <td>Investigadores valencianos han desarrollado u...</td>\n",
       "      <td>Investigadores valencianos desarrollado innova...</td>\n",
       "    </tr>\n",
       "    <tr>\n",
       "      <th>397</th>\n",
       "      <td>La fértil cosecha de Porfirio Fisac en el Zara...</td>\n",
       "      <td>Los arrestados actuaban en coches y en establ...</td>\n",
       "      <td>Los arrestados actuaban coches establecimiento...</td>\n",
       "    </tr>\n",
       "    <tr>\n",
       "      <th>398</th>\n",
       "      <td>Antonio Banderas: Mi novia me salvó la vida co...</td>\n",
       "      <td>El Rey ha encargado este miércoles a Pedro Sá...</td>\n",
       "      <td>El Rey encargado Pedro Sánchez presente invest...</td>\n",
       "    </tr>\n",
       "    <tr>\n",
       "      <th>399</th>\n",
       "      <td>Cuatro quesos de Castilla-La Mancha, entre los...</td>\n",
       "      <td>Las pruebas realizadas en el Centro Nacional ...</td>\n",
       "      <td>Las pruebas realizadas Centro Nacional Microbi...</td>\n",
       "    </tr>\n",
       "  </tbody>\n",
       "</table>\n",
       "<p>400 rows × 3 columns</p>\n",
       "</div>"
      ],
      "text/plain": [
       "                                                 title  \\\n",
       "0    Podemos estudia en su programa playas para muj...   \n",
       "1    Alemania va a quitar los hijos a los padres po...   \n",
       "2    Valencia multará los balcones con banderas por...   \n",
       "3    Un directivo de Hazte Oír se besa con una muje...   \n",
       "4    Iglesias y Montero se compran también un apart...   \n",
       "..                                                 ...   \n",
       "395  Aumenta un 88,7% el número de autónomos mayore...   \n",
       "396  Asesinan a un periodista involucrado en la luc...   \n",
       "397  La fértil cosecha de Porfirio Fisac en el Zara...   \n",
       "398  Antonio Banderas: Mi novia me salvó la vida co...   \n",
       "399  Cuatro quesos de Castilla-La Mancha, entre los...   \n",
       "\n",
       "                                                  text  \\\n",
       "0    Spanish nationalism rabid that a Catalan compa...   \n",
       "1    Su amante, llamó al marido llorando y le contó...   \n",
       "2    SUBEN LAS PENSIONES 1 EURO Y SUBEN EL RECIBO D...   \n",
       "3    Suecia está haciendo un experimento, ha reduci...   \n",
       "4    Suecia sigue avanzando hacia su islamización. ...   \n",
       "..                                                 ...   \n",
       "395   El Consejo de Gobierno ha dado su visto bueno...   \n",
       "396   Investigadores valencianos han desarrollado u...   \n",
       "397   Los arrestados actuaban en coches y en establ...   \n",
       "398   El Rey ha encargado este miércoles a Pedro Sá...   \n",
       "399   Las pruebas realizadas en el Centro Nacional ...   \n",
       "\n",
       "                                            clean_text  \n",
       "0    Spanish nationalism rabid that Catalan company...  \n",
       "1    Su amante, llamó marido llorando contó pasando...  \n",
       "2    SUBEN LAS PENSIONES 1 EURO Y SUBEN EL RECIBO D...  \n",
       "3    Suecia haciendo experimento, reducido jornada ...  \n",
       "4    Suecia sigue avanzando hacia islamización. Seg...  \n",
       "..                                                 ...  \n",
       "395  El Consejo Gobierno dado visto bueno convocato...  \n",
       "396  Investigadores valencianos desarrollado innova...  \n",
       "397  Los arrestados actuaban coches establecimiento...  \n",
       "398  El Rey encargado Pedro Sánchez presente invest...  \n",
       "399  Las pruebas realizadas Centro Nacional Microbi...  \n",
       "\n",
       "[400 rows x 3 columns]"
      ]
     },
     "execution_count": 119,
     "metadata": {},
     "output_type": "execute_result"
    }
   ],
   "source": [
    "# Caramos el dataset de prueba y lo guardamos con un nombre diferente\n",
    "test_df_bert = pd.read_csv(\"data/test.csv\")\n",
    "# Eliminamos los registros que no tienen texto\n",
    "test_df_bert.dropna(subset=[\"text\"], inplace=True)\n",
    "\n",
    "# Aplicamos la función de limpieza de texto\n",
    "test_df_bert[\"clean_text\"] = test_df_bert[\"text\"].apply(remove_stop_words)\n",
    "\n",
    "test_df_bert"
   ]
  },
  {
   "cell_type": "markdown",
   "id": "0762c038",
   "metadata": {},
   "source": [
    "Ahora realizamos la predicción usando la función que creamos anteriormente especificamente para el modelo SaBERT:"
   ]
  },
  {
   "cell_type": "code",
   "execution_count": 120,
   "id": "67b5d306",
   "metadata": {},
   "outputs": [
    {
     "name": "stderr",
     "output_type": "stream",
     "text": [
      "Prediciendo con BERT: 100%|██████████| 25/25 [00:09<00:00,  2.74it/s]\n"
     ]
    }
   ],
   "source": [
    "predicted_values, bert_probabilities_test = predict_batch(model, tokenizer, test_df_bert[\"clean_text\"].tolist())"
   ]
  },
  {
   "cell_type": "code",
   "execution_count": 122,
   "id": "8becf999",
   "metadata": {},
   "outputs": [],
   "source": [
    "test_df_bert[\"predicted_class\"] = pd.Series(predicted_values).map({1: \"True\", 0: \"False\"})"
   ]
  },
  {
   "cell_type": "markdown",
   "id": "2091dc17",
   "metadata": {},
   "source": [
    "Ahora observamos los resultados de ambos modelos:"
   ]
  },
  {
   "cell_type": "code",
   "execution_count": 126,
   "id": "de0e0758",
   "metadata": {},
   "outputs": [
    {
     "data": {
      "text/plain": [
       "predicted_class\n",
       "True     323\n",
       "False     77\n",
       "Name: count, dtype: int64"
      ]
     },
     "execution_count": 126,
     "metadata": {},
     "output_type": "execute_result"
    }
   ],
   "source": [
    "# Resultados de SaBERT en el dataset de prueba\n",
    "test_df_bert[\"predicted_class\"].value_counts()"
   ]
  },
  {
   "cell_type": "code",
   "execution_count": 125,
   "id": "7328d0ba",
   "metadata": {},
   "outputs": [
    {
     "data": {
      "text/plain": [
       "predicted_class\n",
       "True    202\n",
       "Fake    198\n",
       "Name: count, dtype: int64"
      ]
     },
     "execution_count": 125,
     "metadata": {},
     "output_type": "execute_result"
    }
   ],
   "source": [
    "# Resultados de Naive Bayes en el dataset de prueba\n",
    "test_df[\"predicted_class\"].value_counts()"
   ]
  },
  {
   "cell_type": "markdown",
   "id": "2886fc08",
   "metadata": {},
   "source": [
    "Observamos que hay una clara diferencia entre los resultados de los dos modelos. A diferencia de una opinión sin evidencia, el modelo Naive Bayes tiene un desempeño mucho mejor que el modelo SaBERT. Esto se debe a que el modelo SaBERT no fue entrenado con datos de noticias, mientras que el modelo Naive Bayes sí. Por lo tanto, el modelo Naive Bayes es más adecuado para este tipo de tarea."
   ]
  },
  {
   "cell_type": "markdown",
   "id": "19002e28",
   "metadata": {},
   "source": [
    "<a id=\"9\"></a>\n",
    "## 9. Comparación detallada de modelos"
   ]
  },
  {
   "cell_type": "markdown",
   "id": "6ce117e6",
   "metadata": {},
   "source": [
    "<a id=\"9.1\"></a>\n",
    "#### 9.1 Matrices de confusión"
   ]
  },
  {
   "cell_type": "code",
   "execution_count": 147,
   "id": "a9d32c72",
   "metadata": {},
   "outputs": [
    {
     "data": {
      "image/png": "[encoded data removed]",
      "text/plain": [
       "<Figure size 1200x500 with 4 Axes>"
      ]
     },
     "metadata": {},
     "output_type": "display_data"
    }
   ],
   "source": [
    "# Crea matrices de confusión\n",
    "cm_nb = confusion_matrix(y_test, y_pred_nb)\n",
    "cm_bert = confusion_matrix(y_test, y_pred_bert)\n",
    "\n",
    "# Visualizar matrices de confusión\n",
    "fig, axes = plt.subplots(1, 2, figsize=(12, 5))\n",
    "\n",
    "# Naive Bayes\n",
    "sns.heatmap(cm_nb, annot=True, fmt='d', cmap='vlag', ax=axes[0])\n",
    "axes[0].set_title('Matriz de Confusión - Naive Bayes')\n",
    "axes[0].set_xlabel('Predicción')\n",
    "axes[0].set_ylabel('Realidad')\n",
    "\n",
    "# BERT\n",
    "sns.heatmap(cm_bert, annot=True, fmt='d', cmap='Greens', ax=axes[1])\n",
    "axes[1].set_title('Matriz de Confusión - BERT')\n",
    "axes[1].set_xlabel('Predicción')\n",
    "axes[1].set_ylabel('Realidad')\n",
    "\n",
    "plt.tight_layout()\n",
    "plt.show()"
   ]
  },
  {
   "cell_type": "markdown",
   "id": "8096a1bb",
   "metadata": {},
   "source": [
    "Con la matriz de confusión de Naive Bayes se puede observar que el modelo tiene un buen desempeño. La mayoría de las predicciones son correctas, aunque hay algunos falsos positivos y negativos. Esto es normal en modelos de clasificación, pero en este caso el modelo parece tener un buen desempeño general.\n",
    "\n",
    "Con la matriz de confusión de BERT se puede observar que el modelo tiene un desempeño deficiente. Tiene un buen desempeño en los verdaderos negativos, pero los verdaderos positivos son muy bajos. De igual forma los falsos positivos son muy altos lo que indica que el modelo no clasifico correctamente la mayoría de las noticias para el *dataset* utilizado."
   ]
  },
  {
   "cell_type": "markdown",
   "id": "02c3b999",
   "metadata": {},
   "source": [
    "<a id=\"9.2\"></a>\n",
    "#### 9.2 Análisis de métricas"
   ]
  },
  {
   "cell_type": "code",
   "execution_count": 163,
   "id": "e52f2c3f",
   "metadata": {},
   "outputs": [
    {
     "name": "stdout",
     "output_type": "stream",
     "text": [
      "Classification Report Naive Bayes:\n",
      "               precision    recall  f1-score   support\n",
      "\n",
      "           0       0.77      0.76      0.77       201\n",
      "           1       0.76      0.77      0.77       199\n",
      "\n",
      "    accuracy                           0.77       400\n",
      "   macro avg       0.77      0.77      0.77       400\n",
      "weighted avg       0.77      0.77      0.77       400\n",
      "\n",
      "============================================================\n",
      "Classification Report BERT:\n",
      "               precision    recall  f1-score   support\n",
      "\n",
      "           0       0.65      0.22      0.33       201\n",
      "           1       0.53      0.88      0.66       199\n",
      "\n",
      "    accuracy                           0.55       400\n",
      "   macro avg       0.59      0.55      0.50       400\n",
      "weighted avg       0.59      0.55      0.50       400\n",
      "\n",
      "============================================================\n",
      "COMPARACIÓN DE MODELOS:\n",
      "\n",
      "Accuracy Naive Bayes: 76.75%\n",
      "Accuracy BERT: 55.00%\n",
      "Diferencia: -21.75%\n"
     ]
    }
   ],
   "source": [
    "print(\"Classification Report Naive Bayes:\\n\", classification_report(y_test, y_pred_nb))\n",
    "print(\"=\"*60)\n",
    "print(\"Classification Report BERT:\\n\", classification_report(y_test, y_pred_bert))\n",
    "print(\"=\"*60)\n",
    "print(\"COMPARACIÓN DE MODELOS:\\n\")\n",
    "print(\"Accuracy Naive Bayes: %.2f%%\" % (accuracy_nb*100.0))\n",
    "print(\"Accuracy BERT: %.2f%%\" % (accuracy_bert*100.0))\n",
    "print(\"Diferencia: %.2f%%\" % ((accuracy_bert - accuracy_nb)*100.0))"
   ]
  },
  {
   "cell_type": "markdown",
   "id": "ccb60d29",
   "metadata": {},
   "source": [
    "De acuerdo con el *classification report* del modelo Naive Bayes tiene un recall del $77\\%$ para la clase 1 y del $76\\%$ para la clase 0 (noticias falsas), lo que indica que el modelo es efectivo para identificar tanto noticias verdaderas como falsas. Además, su precisión es del $77\\%$ y del $76\\%$ para la clase 0 y 1 respectivamente, lo que significa que el modelo tiene un bajo número de falsos positivos y negativos.\n",
    "\n",
    "\n",
    "Por otro lado, el modelo SaBERT, su recall para la clase 1 (noticias verdaderas) es alto $(88\\%)$, lo que indica que el modelo es efectivo para identificar noticias verdaderas, pero su precisión es solamente del $53\\%$, lo que significa que el modelo tiene un alto número de falsos positivos. Para la clase 0 (noticias falsas), el recall es muy bajo $(22\\%)$, lo que implica que el modelo falla en identificar en identificar noticiasflsas, clasificando muchas de ellas como verdaderas. Esto se traduce en un alto número de falsos negativos."
   ]
  },
  {
   "cell_type": "markdown",
   "id": "ef44600a",
   "metadata": {},
   "source": [
    "<a id=\"10\"></a>\n",
    "## 10. Predicción de noticias no supervisadas con ambos modelos"
   ]
  },
  {
   "cell_type": "markdown",
   "id": "7beaf22c",
   "metadata": {},
   "source": [
    "Creamos una nueva función para predecir un solo texto con el modelo SaBERT:"
   ]
  },
  {
   "cell_type": "code",
   "execution_count": 127,
   "id": "111273e1",
   "metadata": {},
   "outputs": [],
   "source": [
    "# Función para predecir la clase de un texto\n",
    "def predict(model, tokenizer, text, threshold=0.5):   \n",
    "    inputs = tokenizer(text, return_tensors=\"pt\", padding=True, truncation=True, max_length=512)\n",
    "    with torch.no_grad():\n",
    "        outputs = model(**inputs)\n",
    "    \n",
    "    logits = outputs.logits\n",
    "    probabilities = torch.softmax(logits, dim=1).squeeze().tolist()\n",
    "    \n",
    "    predicted_class = torch.argmax(logits, dim=1).item()\n",
    "    if probabilities[predicted_class] <= threshold and predicted_class == 1:\n",
    "        predicted_class = 0\n",
    "\n",
    "    return predicted_class, probabilities"
   ]
  },
  {
   "cell_type": "code",
   "execution_count": 168,
   "id": "85fe3c87",
   "metadata": {},
   "outputs": [],
   "source": [
    "# Prueba para verificar el mapeo del modelo\n",
    "test_fake = \"Descubren que beber agua del grifo convierte a las personas en superhéroes, según un estudio realizado por científicos de la Universidad de Atlantis.\"\n",
    "test_real = \"El presidente del Gobierno anunció hoy un nuevo paquete de medidas económicas para apoyar a las pequeñas y medianas empresas afectadas por la crisis, durante una rueda de prensa celebrada en el Palacio de la Moncloa.\""
   ]
  },
  {
   "cell_type": "code",
   "execution_count": 170,
   "id": "8465c689",
   "metadata": {},
   "outputs": [
    {
     "name": "stdout",
     "output_type": "stream",
     "text": [
      "(SaBERT) Noticia falsa -> Predicción: False, Probabilidades: [0.740742564201355, 0.2592574656009674]\n",
      "(SaBERT) Noticia real -> Predicción: True, Probabilidades: [0.4101056754589081, 0.5898943543434143]\n"
     ]
    }
   ],
   "source": [
    "# Eliminamos las stop words de los textos de prueba\n",
    "test_fake = remove_stop_words(test_fake)\n",
    "test_real = remove_stop_words(test_real)\n",
    "\n",
    "pred_fake, prob_fake = predict(model, tokenizer, test_fake)\n",
    "pred_real, prob_real = predict(model, tokenizer, test_real)\n",
    "\n",
    "print(f\"(SaBERT) Noticia falsa -> Predicción: {bool(pred_fake)}, Probabilidades: {prob_fake}\")\n",
    "print(f\"(SaBERT) Noticia real -> Predicción: {bool(pred_real)}, Probabilidades: {prob_real}\")"
   ]
  },
  {
   "cell_type": "markdown",
   "id": "d261c27b",
   "metadata": {},
   "source": [
    "Ahora probamos la misma noticia pero con el modelo Naive Bayes:"
   ]
  },
  {
   "cell_type": "code",
   "execution_count": 173,
   "id": "498e1593",
   "metadata": {},
   "outputs": [
    {
     "name": "stdout",
     "output_type": "stream",
     "text": [
      "(Naive Bayes) Noticia falsa -> Predicción: False\n",
      "(Naive Bayes) Noticia real -> Predicción: True\n"
     ]
    }
   ],
   "source": [
    "# Limpieza del texto de prueba\n",
    "test_fake_clean = remove_stop_words(test_fake)\n",
    "test_real_clean = remove_stop_words(test_real)\n",
    "\n",
    "# Vectorización del texto limpio\n",
    "test_fake_vectorized = vect.transform([test_fake_clean])\n",
    "test_real_vectorized = vect.transform([test_real_clean])\n",
    "\n",
    "# Predicción con Naive Bayes\n",
    "pred_fake_nb = nb_model.predict(test_fake_vectorized)[0]\n",
    "pred_real_nb = nb_model.predict(test_real_vectorized)[0]\n",
    "\n",
    "# Mostrar resultado\n",
    "print(\"(Naive Bayes) Noticia falsa -> Predicción:\", bool(pred_fake_nb))\n",
    "print(\"(Naive Bayes) Noticia real -> Predicción:\", bool(pred_real_nb))"
   ]
  },
  {
   "cell_type": "markdown",
   "id": "cdd479f4",
   "metadata": {},
   "source": [
    "## Conclusión\n",
    "\n",
    "En este proyecto se compararon tres modelos de clasificación tradicionales (Random Forest, Naive Bayes y Logistic Regression) y un modelo de *Deep Learning* (SaBERT) para la tarea de clasificación de noticias en español. El modelo Naive Bayes resultó ser el más efectivo con una exactitud del $76.76\\%$, superando al modelo SaBERT, que tuvo un desempeño deficiente con una exactitud del $55\\%$.\n",
    "\n",
    "A pesar de la popularidad de los modelos de *Deep Learning*, los enfoques tradicionales demostraron ser más efectivos para esta tarea específica. Esto sugiere que, en algunos casos, los modelos más simples pueden ofrecer un rendimiento superior, especialmente cuando se dispone de un conjunto de datos limitado o cuando la tarea no requiere la complejidad de un modelo de *Deep Learning*."
   ]
  }
 ],
 "metadata": {
  "kernelspec": {
   "display_name": "vnenv",
   "language": "python",
   "name": "python3"
  },
  "language_info": {
   "codemirror_mode": {
    "name": "ipython",
    "version": 3
   },
   "file_extension": ".py",
   "mimetype": "text/x-python",
   "name": "python",
   "nbconvert_exporter": "python",
   "pygments_lexer": "ipython3",
   "version": "3.12.4"
  }
 },
 "nbformat": 4,
 "nbformat_minor": 5
}
